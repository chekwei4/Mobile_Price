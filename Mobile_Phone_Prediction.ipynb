{
  "nbformat": 4,
  "nbformat_minor": 0,
  "metadata": {
    "colab": {
      "name": "Mobile_Phone_ver2.ipynb",
      "provenance": [],
      "collapsed_sections": [],
      "toc_visible": true
    },
    "kernelspec": {
      "name": "python3",
      "display_name": "Python 3"
    },
    "language_info": {
      "name": "python"
    }
  },
  "cells": [
    {
      "cell_type": "markdown",
      "metadata": {
        "id": "0tkVp2b8nhej"
      },
      "source": [
        "# Mobile Phone Price Range Prediction"
      ]
    },
    {
      "cell_type": "markdown",
      "metadata": {
        "id": "s4eK9iconb2c"
      },
      "source": [
        "Kaggle: https://www.kaggle.com/iabhishekofficial/mobile-price-classification\n",
        "\n",
        "Bob has started his own mobile company. He wants to give tough fight to big companies like Apple,Samsung etc.\n",
        "\n",
        "He does not know how to estimate price of mobiles his company creates. In this competitive mobile phone market you cannot simply assume things. To solve this problem he collects sales data of mobile phones of various companies.\n",
        "\n",
        "Bob wants to find out some relation between features of a mobile phone(eg:- RAM,Internal Memory etc) and its selling price. But he is not so good at Machine Learning. So he needs your help to solve this problem.\n",
        "\n",
        "In this problem you do not have to predict actual price but a price range indicating how high the price is"
      ]
    },
    {
      "cell_type": "markdown",
      "metadata": {
        "id": "OT0OPL3znr9H"
      },
      "source": [
        "# Objective\n",
        "\n",
        "To examine which are the features to keep/remove, and train the model and observe accuracy improvement."
      ]
    },
    {
      "cell_type": "code",
      "metadata": {
        "id": "M1zNJ-bMOIik"
      },
      "source": [
        "import pandas as pd \n",
        "import matplotlib.pyplot as plt\n",
        "import seaborn as sns\n",
        "import numpy as np\n",
        "import warnings\n",
        "warnings.filterwarnings('ignore')"
      ],
      "execution_count": 1,
      "outputs": []
    },
    {
      "cell_type": "code",
      "metadata": {
        "id": "ON_1GBQkOeHH"
      },
      "source": [
        "df = pd.read_csv('train.csv')"
      ],
      "execution_count": 2,
      "outputs": []
    },
    {
      "cell_type": "code",
      "metadata": {
        "id": "gm4rKaHZOfA_"
      },
      "source": [
        "#Splitting the dataset into the Training set and Test set\n",
        "X = df.iloc[:, :-1]\n",
        "y = df.iloc[:, -1]\n",
        "from sklearn.model_selection import train_test_split\n",
        "X_train, X_test, y_train, y_test = train_test_split(X, y, test_size = 0.2, random_state = 42)"
      ],
      "execution_count": 3,
      "outputs": []
    },
    {
      "cell_type": "markdown",
      "metadata": {
        "id": "1cMcA6vXh_Cw"
      },
      "source": [
        "# Variance Threshold"
      ]
    },
    {
      "cell_type": "markdown",
      "metadata": {
        "id": "PUGcJsI1iDzs"
      },
      "source": [
        "This method removes features with variation below a certain cutoff.\n",
        "\n",
        "Variance is the measurement of the spread between numbers in a variable. It measures how far a number is from the mean and every number in a variable.\n",
        "\n",
        "The idea is when a feature doesn’t vary much within itself, it generally has very little predictive power. For this, we set threshold = 0. we will drop features that are 100% the same aka variance=0"
      ]
    },
    {
      "cell_type": "code",
      "metadata": {
        "id": "saqWoxn9iHmT"
      },
      "source": [
        "from sklearn.feature_selection import VarianceThreshold\n",
        "\n",
        "def get_feature_variance_threshold(X_train):\n",
        "  var_threshold = VarianceThreshold(threshold=0)\n",
        "  var_threshold.fit(X_train) #apply on training dataset only\n",
        "  var_threshold.get_support()\n",
        "  if sum(var_threshold.get_support()) > 0:\n",
        "    constant_col = [col for col in X_train.columns if col not in X_train.columns[var_threshold.get_support()]]\n",
        "    return constant_col"
      ],
      "execution_count": 4,
      "outputs": []
    },
    {
      "cell_type": "code",
      "metadata": {
        "colab": {
          "base_uri": "https://localhost:8080/"
        },
        "id": "b0n2XkE4iKWI",
        "outputId": "03ea09bd-391f-4bb1-da32-46e0d9289d75"
      },
      "source": [
        "constant_col = get_feature_variance_threshold(X)\n",
        "constant_col"
      ],
      "execution_count": 5,
      "outputs": [
        {
          "output_type": "execute_result",
          "data": {
            "text/plain": [
              "[]"
            ]
          },
          "metadata": {
            "tags": []
          },
          "execution_count": 5
        }
      ]
    },
    {
      "cell_type": "markdown",
      "metadata": {
        "id": "Pj_RllRBigZC"
      },
      "source": [
        "We are not seeing any unary features in the dataset."
      ]
    },
    {
      "cell_type": "markdown",
      "metadata": {
        "id": "EBOWmsI6b4g2"
      },
      "source": [
        "# Correlations"
      ]
    },
    {
      "cell_type": "markdown",
      "metadata": {
        "id": "rLTwENReir8U"
      },
      "source": [
        "Correlation is a measure of the linear relationship of 2 or more variables. Through correlation, we can predict one variable from the other. The logic behind using correlation for feature selection is that the good variables are highly correlated with the target. Furthermore, variables should be correlated with the target but should be uncorrelated among themselves.\n",
        "\n",
        "If two variables are correlated, we can predict one from the other. Therefore, if two features are correlated, the model only really needs one of them, as the second one does not add additional information. \n",
        "\n",
        "Credit: https://www.analyticsvidhya.com/blog/2020/10/feature-selection-techniques-in-machine-learning/"
      ]
    },
    {
      "cell_type": "code",
      "metadata": {
        "colab": {
          "base_uri": "https://localhost:8080/",
          "height": 685
        },
        "id": "zd_HKQ1_c_ap",
        "outputId": "ca21b633-5e3f-453c-f079-2d4a76d2183e"
      },
      "source": [
        "sns.set_theme(style=\"white\")\n",
        "plt.figure(figsize=(12,10))\n",
        "corr = df.drop('price_range', axis=1).corr()\n",
        "mask = np.triu(np.ones_like(corr, dtype=bool))\n",
        "sns.heatmap(corr, cmap='RdBu', mask=mask, linewidths=.5, vmin=-1, vmax=1)"
      ],
      "execution_count": 6,
      "outputs": [
        {
          "output_type": "execute_result",
          "data": {
            "text/plain": [
              "<matplotlib.axes._subplots.AxesSubplot at 0x7efc5269a9d0>"
            ]
          },
          "metadata": {
            "tags": []
          },
          "execution_count": 6
        },
        {
          "output_type": "display_data",
          "data": {
            "image/png": "[encoded data removed]",
            "text/plain": [
              "<Figure size 864x720 with 2 Axes>"
            ]
          },
          "metadata": {
            "tags": []
          }
        }
      ]
    },
    {
      "cell_type": "code",
      "metadata": {
        "id": "m2Pb39iAb4LK"
      },
      "source": [
        "def correlation(dataset, threshold):\n",
        "  col_corr = set()# Set of all the names of correlated columns\n",
        "  corr_matrix = df.drop('price_range', axis=1).corr()\n",
        "  for i in range(len(corr_matrix.columns)):\n",
        "    for j in range(i):\n",
        "      if abs(corr_matrix.iloc[i, j]) > threshold: # we are interested in absolute coeff value\n",
        "        colname = corr_matrix.columns[i] # getting the name of column\n",
        "        col_corr.add(colname)\n",
        "        return col_corr"
      ],
      "execution_count": 7,
      "outputs": []
    },
    {
      "cell_type": "code",
      "metadata": {
        "id": "TrAzIq7tb4JO"
      },
      "source": [
        "corr_features = correlation(df, 0.85)"
      ],
      "execution_count": 8,
      "outputs": []
    },
    {
      "cell_type": "code",
      "metadata": {
        "id": "T4bdbkMgb33z"
      },
      "source": [
        "corr_features"
      ],
      "execution_count": 9,
      "outputs": []
    },
    {
      "cell_type": "markdown",
      "metadata": {
        "id": "Zc-FpUQoczNO"
      },
      "source": [
        "No features are highly correlated, of threshold 0.85 and beyond. "
      ]
    },
    {
      "cell_type": "markdown",
      "metadata": {
        "id": "HpUo_BsPOk0h"
      },
      "source": [
        "# Chi2 Test for categorical features"
      ]
    },
    {
      "cell_type": "markdown",
      "metadata": {
        "id": "yrj8ITvWPYDQ"
      },
      "source": [
        "A chi-square test is used in statistics to test the independence of two events.\n",
        "\n",
        "In feature selection, we aim to select the features which are highly dependent on the response.\n",
        "\n",
        "When two features are independent, the observed count is close to the expected count, thus we will have smaller Chi-Square value. So high Chi-Square value indicates that the hypothesis of independence is incorrect. In simple words, higher the Chi-Square value the feature is more dependent on the response and it can be selected for model training.\n",
        "\n",
        "Also, in terms of p_value:\n",
        "\n",
        "Null Hypothesis (H0): Two variables are independent.\n",
        "\n",
        "Alternate Hypothesis (H1): Two variables are not independent.\n",
        "\n",
        "***If p-value ≥0.05***, failed to reject null hypothesis as there is no relationship between target variable and categorical features.\n",
        "\n",
        "***if p_value <0.05***, rejects null hypothesis as there will be some relationship between target variable and categorical features\n",
        "\n",
        "credit: https://towardsdatascience.com/chi-square-test-for-feature-selection-in-machine-learning-206b1f0b8223\n"
      ]
    },
    {
      "cell_type": "code",
      "metadata": {
        "colab": {
          "base_uri": "https://localhost:8080/"
        },
        "id": "vlT-s8ohOkyr",
        "outputId": "c51b50fb-7b56-47b0-f472-1e1411b458b3"
      },
      "source": [
        "nominal_feature = [feature for feature in df.columns if len(df[feature].unique())<7 and feature != 'price_range']\n",
        "print(\"Nominal categorical variables Count: {}\".format(len(nominal_feature)))"
      ],
      "execution_count": 10,
      "outputs": [
        {
          "output_type": "stream",
          "text": [
            "Nominal categorical variables Count: 6\n"
          ],
          "name": "stdout"
        }
      ]
    },
    {
      "cell_type": "code",
      "metadata": {
        "colab": {
          "base_uri": "https://localhost:8080/"
        },
        "id": "LHzTRYaAOtM5",
        "outputId": "fcdca89a-d10e-4642-a40a-987c27682701"
      },
      "source": [
        "nominal_feature"
      ],
      "execution_count": 11,
      "outputs": [
        {
          "output_type": "execute_result",
          "data": {
            "text/plain": [
              "['blue', 'dual_sim', 'four_g', 'three_g', 'touch_screen', 'wifi']"
            ]
          },
          "metadata": {
            "tags": []
          },
          "execution_count": 11
        }
      ]
    },
    {
      "cell_type": "code",
      "metadata": {
        "id": "Z6Sy0OGDOtX9",
        "colab": {
          "base_uri": "https://localhost:8080/"
        },
        "outputId": "d50e1559-1f90-48f7-a8ac-09b170bfcad3"
      },
      "source": [
        "#returns chi2 stats, p_values\n",
        "f_p_values = chi2(X[nominal_feature], y)\n",
        "\n",
        "chi2_stats = pd.Series(f_p_values[0], index=nominal_feature)\n",
        "p_values = pd.Series(f_p_values[1], index=nominal_feature)\n",
        "\n",
        "chi2_stats.sort_values(ascending=False, inplace=True)\n",
        "p_values.sort_values(ascending=False, inplace=True)\n",
        "\n",
        "print(\"chi2 stats score:\")\n",
        "print(chi2_stats)\n",
        "print('\\n')\n",
        "print(\"p values:\")\n",
        "print(p_values)"
      ],
      "execution_count": 17,
      "outputs": [
        {
          "output_type": "stream",
          "text": [
            "chi2 stats score:\n",
            "touch_screen    1.928429\n",
            "four_g          1.521572\n",
            "blue            0.723232\n",
            "dual_sim        0.631011\n",
            "wifi            0.422091\n",
            "three_g         0.327643\n",
            "dtype: float64\n",
            "\n",
            "\n",
            "p values:\n",
            "three_g         0.954748\n",
            "wifi            0.935642\n",
            "dual_sim        0.889298\n",
            "blue            0.867726\n",
            "four_g          0.677300\n",
            "touch_screen    0.587394\n",
            "dtype: float64\n"
          ],
          "name": "stdout"
        }
      ]
    },
    {
      "cell_type": "markdown",
      "metadata": {
        "id": "DmxhJn3Y0FaK"
      },
      "source": [
        "we can see that all the p values are > 0.05, hence we failed to reject null hypothesis as there is no relationship between target variable and categorical features.\n",
        "\n",
        "Hence, these features are independent of the response and unlikely we will select for model training. "
      ]
    },
    {
      "cell_type": "markdown",
      "metadata": {
        "id": "Stk8Te9V0kj_"
      },
      "source": [
        "Nonetheless, let's look at chi-square statistic scores below in graphical:\n",
        "\n",
        "Higher the Chi-Square value, the feature is more dependent on the response and it may be selected for model training.\n",
        "\n",
        "1. touch_screen looks most desirable to be selected\n",
        "2. three_g is worst."
      ]
    },
    {
      "cell_type": "code",
      "metadata": {
        "colab": {
          "base_uri": "https://localhost:8080/",
          "height": 377
        },
        "id": "AuNRuRyOPVWE",
        "outputId": "881ef3bb-946b-49af-b45c-e22f6de13011"
      },
      "source": [
        "plt.figure(figsize=(8,6))\n",
        "feat_importances = pd.Series(chi2_stats, index=nominal_feature)\n",
        "feat_importances.nlargest(len(nominal_feature)).plot(kind='barh')\n",
        "plt.show()"
      ],
      "execution_count": 19,
      "outputs": [
        {
          "output_type": "display_data",
          "data": {
            "image/png": "[encoded data removed]",
            "text/plain": [
              "<Figure size 576x432 with 1 Axes>"
            ]
          },
          "metadata": {
            "tags": []
          }
        }
      ]
    },
    {
      "cell_type": "markdown",
      "metadata": {
        "id": "lhP80GsQPWOx"
      },
      "source": [
        "# ANOVA Test for continuous features"
      ]
    },
    {
      "cell_type": "markdown",
      "metadata": {
        "id": "eQ8sgb1KPmHe"
      },
      "source": [
        "This is a feature selection method for numerical input data when the target variable is categorical.\n",
        "\n",
        "credit: https://machinelearningmastery.com/feature-selection-with-numerical-input-data/\n",
        "\n",
        "ANOVA is an acronym for “analysis of variance” and is a parametric statistical hypothesis test for determining whether the means from two or more samples of data (often three or more) come from the same distribution or not.\n",
        "\n",
        "ANOVA is used when one variable is numeric and one is categorical, such as numerical input variables and a classification target variable in a classification task.\n",
        "\n",
        "The results of this test can be used for feature selection where those features that are independent of the target variable can be removed from the dataset."
      ]
    },
    {
      "cell_type": "code",
      "metadata": {
        "colab": {
          "base_uri": "https://localhost:8080/"
        },
        "id": "BrewsM_3Ps4J",
        "outputId": "95ec4782-0df9-4c84-ad40-ca12c1a8a255"
      },
      "source": [
        "cont_feature = []\n",
        "\n",
        "for i in df.columns:\n",
        "  if i not in nominal_feature and i != 'price_range':\n",
        "        cont_feature.append(i)\n",
        "\n",
        "print(\"Cont variables Count: {}\".format(len(cont_feature)))"
      ],
      "execution_count": 20,
      "outputs": [
        {
          "output_type": "stream",
          "text": [
            "Cont variables Count: 14\n"
          ],
          "name": "stdout"
        }
      ]
    },
    {
      "cell_type": "code",
      "metadata": {
        "colab": {
          "base_uri": "https://localhost:8080/"
        },
        "id": "mnCvrRWZPuPM",
        "outputId": "1d301933-e713-497d-f2f1-6a575b57679e"
      },
      "source": [
        "cont_feature"
      ],
      "execution_count": 21,
      "outputs": [
        {
          "output_type": "execute_result",
          "data": {
            "text/plain": [
              "['battery_power',\n",
              " 'clock_speed',\n",
              " 'fc',\n",
              " 'int_memory',\n",
              " 'm_dep',\n",
              " 'mobile_wt',\n",
              " 'n_cores',\n",
              " 'pc',\n",
              " 'px_height',\n",
              " 'px_width',\n",
              " 'ram',\n",
              " 'sc_h',\n",
              " 'sc_w',\n",
              " 'talk_time']"
            ]
          },
          "metadata": {
            "tags": []
          },
          "execution_count": 21
        }
      ]
    },
    {
      "cell_type": "code",
      "metadata": {
        "id": "zbkjtpLdPjUa"
      },
      "source": [
        "from sklearn.feature_selection import SelectKBest\n",
        "from sklearn.feature_selection import f_classif\n",
        "\n",
        "fs = SelectKBest(score_func=f_classif, k='all')\n",
        "fs.fit(X[cont_feature], y)\n",
        "\n",
        "anova_scores = pd.Series(fs.scores_)\n",
        "anova_scores.index = cont_feature\n",
        "anova_df = pd.DataFrame(anova_scores)\n",
        "anova_df.reset_index(inplace=True)\n",
        "anova_df.columns = ['feature','anova_score']\n",
        "anova_df.sort_values('anova_score', ascending=False, inplace=True)\n",
        "bottom_3_anova_score = anova_df['feature'].tail(3)"
      ],
      "execution_count": 22,
      "outputs": []
    },
    {
      "cell_type": "code",
      "metadata": {
        "colab": {
          "base_uri": "https://localhost:8080/",
          "height": 483
        },
        "id": "ErMa_FBQ4drB",
        "outputId": "6cb10055-c8e0-44a2-9b52-29242fbe5182"
      },
      "source": [
        "anova_df"
      ],
      "execution_count": 24,
      "outputs": [
        {
          "output_type": "execute_result",
          "data": {
            "text/html": [
              "<div>\n",
              "<style scoped>\n",
              "    .dataframe tbody tr th:only-of-type {\n",
              "        vertical-align: middle;\n",
              "    }\n",
              "\n",
              "    .dataframe tbody tr th {\n",
              "        vertical-align: top;\n",
              "    }\n",
              "\n",
              "    .dataframe thead th {\n",
              "        text-align: right;\n",
              "    }\n",
              "</style>\n",
              "<table border=\"1\" class=\"dataframe\">\n",
              "  <thead>\n",
              "    <tr style=\"text-align: right;\">\n",
              "      <th></th>\n",
              "      <th>feature</th>\n",
              "      <th>anova_score</th>\n",
              "    </tr>\n",
              "  </thead>\n",
              "  <tbody>\n",
              "    <tr>\n",
              "      <th>10</th>\n",
              "      <td>ram</td>\n",
              "      <td>3520.110824</td>\n",
              "    </tr>\n",
              "    <tr>\n",
              "      <th>0</th>\n",
              "      <td>battery_power</td>\n",
              "      <td>31.598158</td>\n",
              "    </tr>\n",
              "    <tr>\n",
              "      <th>9</th>\n",
              "      <td>px_width</td>\n",
              "      <td>22.620882</td>\n",
              "    </tr>\n",
              "    <tr>\n",
              "      <th>8</th>\n",
              "      <td>px_height</td>\n",
              "      <td>19.484842</td>\n",
              "    </tr>\n",
              "    <tr>\n",
              "      <th>5</th>\n",
              "      <td>mobile_wt</td>\n",
              "      <td>3.594318</td>\n",
              "    </tr>\n",
              "    <tr>\n",
              "      <th>3</th>\n",
              "      <td>int_memory</td>\n",
              "      <td>2.922996</td>\n",
              "    </tr>\n",
              "    <tr>\n",
              "      <th>6</th>\n",
              "      <td>n_cores</td>\n",
              "      <td>2.625415</td>\n",
              "    </tr>\n",
              "    <tr>\n",
              "      <th>11</th>\n",
              "      <td>sc_h</td>\n",
              "      <td>2.225984</td>\n",
              "    </tr>\n",
              "    <tr>\n",
              "      <th>12</th>\n",
              "      <td>sc_w</td>\n",
              "      <td>1.671000</td>\n",
              "    </tr>\n",
              "    <tr>\n",
              "      <th>13</th>\n",
              "      <td>talk_time</td>\n",
              "      <td>1.628811</td>\n",
              "    </tr>\n",
              "    <tr>\n",
              "      <th>4</th>\n",
              "      <td>m_dep</td>\n",
              "      <td>1.500682</td>\n",
              "    </tr>\n",
              "    <tr>\n",
              "      <th>7</th>\n",
              "      <td>pc</td>\n",
              "      <td>0.825446</td>\n",
              "    </tr>\n",
              "    <tr>\n",
              "      <th>2</th>\n",
              "      <td>fc</td>\n",
              "      <td>0.772182</td>\n",
              "    </tr>\n",
              "    <tr>\n",
              "      <th>1</th>\n",
              "      <td>clock_speed</td>\n",
              "      <td>0.493708</td>\n",
              "    </tr>\n",
              "  </tbody>\n",
              "</table>\n",
              "</div>"
            ],
            "text/plain": [
              "          feature  anova_score\n",
              "10            ram  3520.110824\n",
              "0   battery_power    31.598158\n",
              "9        px_width    22.620882\n",
              "8       px_height    19.484842\n",
              "5       mobile_wt     3.594318\n",
              "3      int_memory     2.922996\n",
              "6         n_cores     2.625415\n",
              "11           sc_h     2.225984\n",
              "12           sc_w     1.671000\n",
              "13      talk_time     1.628811\n",
              "4           m_dep     1.500682\n",
              "7              pc     0.825446\n",
              "2              fc     0.772182\n",
              "1     clock_speed     0.493708"
            ]
          },
          "metadata": {
            "tags": []
          },
          "execution_count": 24
        }
      ]
    },
    {
      "cell_type": "code",
      "metadata": {
        "colab": {
          "base_uri": "https://localhost:8080/"
        },
        "id": "P5iqpXrRFULz",
        "outputId": "d46022c1-0962-4f20-9702-46b0615637c7"
      },
      "source": [
        "bottom_3_anova_score"
      ],
      "execution_count": 23,
      "outputs": [
        {
          "output_type": "execute_result",
          "data": {
            "text/plain": [
              "7             pc\n",
              "2             fc\n",
              "1    clock_speed\n",
              "Name: feature, dtype: object"
            ]
          },
          "metadata": {
            "tags": []
          },
          "execution_count": 23
        }
      ]
    },
    {
      "cell_type": "code",
      "metadata": {
        "colab": {
          "base_uri": "https://localhost:8080/",
          "height": 394
        },
        "id": "ZY53mBGD4wOS",
        "outputId": "4f9ecf86-091f-4edb-c2d0-ffe83868eb74"
      },
      "source": [
        "plt.figure(figsize=(8,6))\n",
        "anova_scores.sort_values(ascending=False).plot(kind='barh')"
      ],
      "execution_count": 29,
      "outputs": [
        {
          "output_type": "execute_result",
          "data": {
            "text/plain": [
              "<matplotlib.axes._subplots.AxesSubplot at 0x7efc4876cc50>"
            ]
          },
          "metadata": {
            "tags": []
          },
          "execution_count": 29
        },
        {
          "output_type": "display_data",
          "data": {
            "image/png": "[encoded data removed]",
            "text/plain": [
              "<Figure size 576x432 with 1 Axes>"
            ]
          },
          "metadata": {
            "tags": []
          }
        }
      ]
    },
    {
      "cell_type": "markdown",
      "metadata": {
        "id": "Ubxz6DH7QLHW"
      },
      "source": [
        "Using ANOVA on the continuous features, we can see that below are the few features that are ***independent*** of the target feature. \n",
        "\n",
        "pc                  0.825446\n",
        "\n",
        "fc                  0.772182\n",
        "\n",
        "clock_speed         0.493708\n",
        "\n",
        "We can also see the ram has dominantly high dependency of the target feature. This is an important feature which we will keep. \n"
      ]
    },
    {
      "cell_type": "markdown",
      "metadata": {
        "id": "v59NdL90QBei"
      },
      "source": [
        "# Feature Importance"
      ]
    },
    {
      "cell_type": "code",
      "metadata": {
        "colab": {
          "base_uri": "https://localhost:8080/"
        },
        "id": "FbdcOaQuQkBq",
        "outputId": "a3b72e48-b8fd-4531-cd58-f8904f7146c3"
      },
      "source": [
        "from sklearn.ensemble import RandomForestClassifier\n",
        "rf_model = RandomForestClassifier()\n",
        "rf_model.fit(X, y)\n",
        "\n",
        "feature_importance_score = pd.Series(rf_model.feature_importances_)\n",
        "feature_importance_score.index = X.columns\n",
        "feature_importance_score.nlargest(len(feature_importance_score))"
      ],
      "execution_count": 30,
      "outputs": [
        {
          "output_type": "execute_result",
          "data": {
            "text/plain": [
              "ram              0.478945\n",
              "battery_power    0.074314\n",
              "px_width         0.058613\n",
              "px_height        0.054759\n",
              "mobile_wt        0.039405\n",
              "int_memory       0.036510\n",
              "talk_time        0.031250\n",
              "pc               0.029505\n",
              "sc_w             0.029035\n",
              "clock_speed      0.028400\n",
              "sc_h             0.027272\n",
              "m_dep            0.025066\n",
              "fc               0.024699\n",
              "n_cores          0.022841\n",
              "touch_screen     0.007032\n",
              "four_g           0.006727\n",
              "wifi             0.006557\n",
              "dual_sim         0.006527\n",
              "blue             0.006471\n",
              "three_g          0.006073\n",
              "dtype: float64"
            ]
          },
          "metadata": {
            "tags": []
          },
          "execution_count": 30
        }
      ]
    },
    {
      "cell_type": "code",
      "metadata": {
        "colab": {
          "base_uri": "https://localhost:8080/",
          "height": 377
        },
        "id": "ESW9JTshResl",
        "outputId": "4c8a0831-b099-4e4e-a528-68369cabe258"
      },
      "source": [
        "plt.figure(figsize=(8,6))\n",
        "feature_importance_score.nlargest(len(feature_importance_score)).plot(kind='barh')\n",
        "plt.show()"
      ],
      "execution_count": 31,
      "outputs": [
        {
          "output_type": "display_data",
          "data": {
            "image/png": "[encoded data removed]",
            "text/plain": [
              "<Figure size 576x432 with 1 Axes>"
            ]
          },
          "metadata": {
            "tags": []
          }
        }
      ]
    },
    {
      "cell_type": "markdown",
      "metadata": {
        "id": "hlT4T8dWRhj-"
      },
      "source": [
        "After performing Chi Square, ANOVA, Feature Importance, we can see that few features are most desirable to be used to train our model. \n",
        "\n",
        "1. ram\n",
        "2. battery_power\n",
        "3. px_width\n",
        "4. px_height"
      ]
    },
    {
      "cell_type": "markdown",
      "metadata": {
        "id": "dIGwFDxJR-lz"
      },
      "source": [
        "# Method 1 - Baseline Model (Kitchen sink)"
      ]
    },
    {
      "cell_type": "code",
      "metadata": {
        "colab": {
          "base_uri": "https://localhost:8080/",
          "height": 302
        },
        "id": "VrhblK6DSFxt",
        "outputId": "7d9ba6a7-6929-496f-fd6f-00a62f204ed0"
      },
      "source": [
        "sns.countplot(df['price_range'])"
      ],
      "execution_count": 32,
      "outputs": [
        {
          "output_type": "execute_result",
          "data": {
            "text/plain": [
              "<matplotlib.axes._subplots.AxesSubplot at 0x7efc477ddb50>"
            ]
          },
          "metadata": {
            "tags": []
          },
          "execution_count": 32
        },
        {
          "output_type": "display_data",
          "data": {
            "image/png": "[encoded data removed]",
            "text/plain": [
              "<Figure size 432x288 with 1 Axes>"
            ]
          },
          "metadata": {
            "tags": []
          }
        }
      ]
    },
    {
      "cell_type": "markdown",
      "metadata": {
        "id": "pRAYddsyoghj"
      },
      "source": [
        "Target class seems evently distributed, hence we can go with the normal KFold method for our cross validations with 10 splits since dataset is not too huge. "
      ]
    },
    {
      "cell_type": "code",
      "metadata": {
        "id": "tj15zPdhSDDQ"
      },
      "source": [
        "from sklearn.ensemble import RandomForestClassifier\n",
        "from sklearn.model_selection import cross_val_score\n",
        "from sklearn.model_selection import KFold\n",
        "from statistics import mean\n",
        "\n",
        "def run_baseline(X, y, split):\n",
        "  rf_model = RandomForestClassifier()\n",
        "  cv = KFold(n_splits=split, random_state=42)\n",
        "  results = cross_val_score(rf_model, X, y, scoring='accuracy', cv=cv, n_jobs = -1, verbose = 10)\n",
        "  return(mean(results))"
      ],
      "execution_count": 33,
      "outputs": []
    },
    {
      "cell_type": "code",
      "metadata": {
        "colab": {
          "base_uri": "https://localhost:8080/"
        },
        "id": "Kb1BJdscBIJU",
        "outputId": "19eebd5d-e3d5-483e-977a-5b007506ed6d"
      },
      "source": [
        "baseline_model_results = run_baseline(X, y, 10)\n",
        "print(\"Baseline model accuracy results: \", baseline_model_results)"
      ],
      "execution_count": 34,
      "outputs": [
        {
          "output_type": "stream",
          "text": [
            "[Parallel(n_jobs=-1)]: Using backend LokyBackend with 2 concurrent workers.\n",
            "[Parallel(n_jobs=-1)]: Done   1 tasks      | elapsed:    2.0s\n",
            "[Parallel(n_jobs=-1)]: Done   4 tasks      | elapsed:    2.7s\n"
          ],
          "name": "stderr"
        },
        {
          "output_type": "stream",
          "text": [
            "Baseline model accuracy results:  0.888\n"
          ],
          "name": "stdout"
        },
        {
          "output_type": "stream",
          "text": [
            "[Parallel(n_jobs=-1)]: Done  10 out of  10 | elapsed:    4.7s finished\n"
          ],
          "name": "stderr"
        }
      ]
    },
    {
      "cell_type": "markdown",
      "metadata": {
        "id": "qJuIkNI98U98"
      },
      "source": [
        "baseline model (kitchen sink method of all features in) accuracy is somewhere short of 0.90. we know we can do better."
      ]
    },
    {
      "cell_type": "markdown",
      "metadata": {
        "id": "q5PvPW3RTlyl"
      },
      "source": [
        "# Method 2 - After filtering features manually"
      ]
    },
    {
      "cell_type": "markdown",
      "metadata": {
        "id": "5vatKFH_VTkX"
      },
      "source": [
        "We will remove features following features which shows strong independence during ANOVA test.\n",
        "\n",
        "pc                  0.825446\n",
        "\n",
        "fc                  0.772182\n",
        "\n",
        "clock_speed         0.493708"
      ]
    },
    {
      "cell_type": "code",
      "metadata": {
        "colab": {
          "base_uri": "https://localhost:8080/"
        },
        "id": "b2szOScYTrw5",
        "outputId": "54aeb24b-4852-460d-ced4-d58f7fd4851d"
      },
      "source": [
        "bottom_3_anova_score.tolist()"
      ],
      "execution_count": 35,
      "outputs": [
        {
          "output_type": "execute_result",
          "data": {
            "text/plain": [
              "['pc', 'fc', 'clock_speed']"
            ]
          },
          "metadata": {
            "tags": []
          },
          "execution_count": 35
        }
      ]
    },
    {
      "cell_type": "code",
      "metadata": {
        "id": "8gVPPBhlTxP0"
      },
      "source": [
        "def run_filter(X, y, split, list_to_filer):\n",
        "  X_new = X.drop(list_to_filer, axis=1)\n",
        "  rf_model = RandomForestClassifier()\n",
        "  cv = KFold(n_splits=split, random_state=42)\n",
        "  new_results = cross_val_score(rf_model, X_new, y, scoring='accuracy', cv = cv, n_jobs = -1, verbose=10)\n",
        "  return(mean(new_results))"
      ],
      "execution_count": 37,
      "outputs": []
    },
    {
      "cell_type": "code",
      "metadata": {
        "colab": {
          "base_uri": "https://localhost:8080/"
        },
        "id": "Q0n50TUwIapN",
        "outputId": "2ba764fb-a127-4867-cc88-f0c7a2ec7a6a"
      },
      "source": [
        "filter_results = run_filter(X, y, 10, bottom_3_anova_score)\n",
        "print(\"new test accuracy dropping 3 features:\", filter_results)"
      ],
      "execution_count": 38,
      "outputs": [
        {
          "output_type": "stream",
          "text": [
            "[Parallel(n_jobs=-1)]: Using backend LokyBackend with 2 concurrent workers.\n",
            "[Parallel(n_jobs=-1)]: Done   1 tasks      | elapsed:    0.7s\n",
            "[Parallel(n_jobs=-1)]: Done   4 tasks      | elapsed:    1.4s\n"
          ],
          "name": "stderr"
        },
        {
          "output_type": "stream",
          "text": [
            "new test accuracy dropping 3 features: 0.89\n"
          ],
          "name": "stdout"
        },
        {
          "output_type": "stream",
          "text": [
            "[Parallel(n_jobs=-1)]: Done  10 out of  10 | elapsed:    3.4s finished\n"
          ],
          "name": "stderr"
        }
      ]
    },
    {
      "cell_type": "markdown",
      "metadata": {
        "id": "ebfHYiS59B_B"
      },
      "source": [
        "after removing 3 features, our accuracy is now 0.89. \n",
        "\n",
        "Very slight improvement in accuracy from baseline model only. "
      ]
    },
    {
      "cell_type": "markdown",
      "metadata": {
        "id": "Q6yuZ2usUEIb"
      },
      "source": [
        "# Method 3 - ANOVA with gridsearch for K value"
      ]
    },
    {
      "cell_type": "markdown",
      "metadata": {
        "id": "IJSa4enLWloe"
      },
      "source": [
        "Now, let's see if we can remove more features by trying with other K values. "
      ]
    },
    {
      "cell_type": "code",
      "metadata": {
        "id": "Xemk0Z_yUPwi"
      },
      "source": [
        "from sklearn.pipeline import Pipeline\n",
        "from sklearn.model_selection import GridSearchCV\n",
        "\n",
        "def run_anova_gs(X, y, split):\n",
        "  cv = KFold(n_splits=split, random_state=42)\n",
        "  rf_model = RandomForestClassifier()\n",
        "\n",
        "  anova_s = SelectKBest(score_func = f_classif)\n",
        "  pipeline = Pipeline(steps=[('anova',anova_s), ('rf', rf_model)])\n",
        "  grid = dict()\n",
        "  grid['anova__k'] = [i+1 for i in range(len(X.columns))]\n",
        "  gs_model = GridSearchCV(pipeline, grid, scoring='accuracy', n_jobs=-1, cv=cv, verbose=10)\n",
        "  gs_model.fit(X, y)\n",
        "  return gs_model"
      ],
      "execution_count": 44,
      "outputs": []
    },
    {
      "cell_type": "code",
      "metadata": {
        "colab": {
          "base_uri": "https://localhost:8080/"
        },
        "id": "xYkoOyuPJOoa",
        "outputId": "689b90a0-0483-4885-a2b5-161b0df50fa2"
      },
      "source": [
        "gs_model = run_anova_gs(X, y, 10)"
      ],
      "execution_count": 45,
      "outputs": [
        {
          "output_type": "stream",
          "text": [
            "Fitting 10 folds for each of 20 candidates, totalling 200 fits\n"
          ],
          "name": "stdout"
        },
        {
          "output_type": "stream",
          "text": [
            "[Parallel(n_jobs=-1)]: Using backend LokyBackend with 2 concurrent workers.\n",
            "[Parallel(n_jobs=-1)]: Done   1 tasks      | elapsed:    0.5s\n",
            "[Parallel(n_jobs=-1)]: Done   4 tasks      | elapsed:    1.1s\n",
            "[Parallel(n_jobs=-1)]: Done   9 tasks      | elapsed:    2.6s\n",
            "[Parallel(n_jobs=-1)]: Done  14 tasks      | elapsed:    3.6s\n",
            "[Parallel(n_jobs=-1)]: Done  21 tasks      | elapsed:    5.4s\n",
            "[Parallel(n_jobs=-1)]: Done  28 tasks      | elapsed:    6.8s\n",
            "[Parallel(n_jobs=-1)]: Done  37 tasks      | elapsed:    9.5s\n",
            "[Parallel(n_jobs=-1)]: Done  46 tasks      | elapsed:   11.9s\n",
            "[Parallel(n_jobs=-1)]: Done  57 tasks      | elapsed:   15.3s\n",
            "[Parallel(n_jobs=-1)]: Done  68 tasks      | elapsed:   18.3s\n",
            "[Parallel(n_jobs=-1)]: Done  81 tasks      | elapsed:   22.3s\n",
            "[Parallel(n_jobs=-1)]: Done  94 tasks      | elapsed:   26.2s\n",
            "[Parallel(n_jobs=-1)]: Done 109 tasks      | elapsed:   31.3s\n",
            "[Parallel(n_jobs=-1)]: Done 124 tasks      | elapsed:   35.8s\n",
            "[Parallel(n_jobs=-1)]: Done 141 tasks      | elapsed:   41.4s\n",
            "[Parallel(n_jobs=-1)]: Done 158 tasks      | elapsed:   46.7s\n",
            "[Parallel(n_jobs=-1)]: Done 177 tasks      | elapsed:   53.4s\n",
            "[Parallel(n_jobs=-1)]: Done 196 tasks      | elapsed:   59.7s\n",
            "[Parallel(n_jobs=-1)]: Done 200 out of 200 | elapsed:  1.0min finished\n"
          ],
          "name": "stderr"
        }
      ]
    },
    {
      "cell_type": "code",
      "metadata": {
        "colab": {
          "base_uri": "https://localhost:8080/"
        },
        "id": "C3E_G2IUXAq5",
        "outputId": "9c313ea4-28dc-497b-9939-29917e532a0a"
      },
      "source": [
        "gs_model.best_params_"
      ],
      "execution_count": 46,
      "outputs": [
        {
          "output_type": "execute_result",
          "data": {
            "text/plain": [
              "{'anova__k': 4}"
            ]
          },
          "metadata": {
            "tags": []
          },
          "execution_count": 46
        }
      ]
    },
    {
      "cell_type": "code",
      "metadata": {
        "colab": {
          "base_uri": "https://localhost:8080/"
        },
        "id": "X2D9c4plXBzR",
        "outputId": "1abeaeae-2e2a-46e3-da1f-a9e1594f2cd1"
      },
      "source": [
        "gs_model.best_score_"
      ],
      "execution_count": 47,
      "outputs": [
        {
          "output_type": "execute_result",
          "data": {
            "text/plain": [
              "0.916"
            ]
          },
          "metadata": {
            "tags": []
          },
          "execution_count": 47
        }
      ]
    },
    {
      "cell_type": "markdown",
      "metadata": {
        "id": "Dk1bavo3XNDZ"
      },
      "source": [
        "We are now down to 4 features that yield a better accuracy of ~0.92. Which 4 features?"
      ]
    },
    {
      "cell_type": "code",
      "metadata": {
        "colab": {
          "base_uri": "https://localhost:8080/"
        },
        "id": "6T5g7V8aXMlV",
        "outputId": "b6abfbd9-986b-45c3-b258-625a80c3713d"
      },
      "source": [
        "fs = SelectKBest(score_func=f_classif, k=gs_model.best_params_['anova__k'])\n",
        "fs.fit(X, y)\n",
        "X.columns[fs.get_support()]"
      ],
      "execution_count": 51,
      "outputs": [
        {
          "output_type": "execute_result",
          "data": {
            "text/plain": [
              "Index(['battery_power', 'px_height', 'px_width', 'ram'], dtype='object')"
            ]
          },
          "metadata": {
            "tags": []
          },
          "execution_count": 51
        }
      ]
    },
    {
      "cell_type": "markdown",
      "metadata": {
        "id": "17nIu5F4Xfg0"
      },
      "source": [
        "# Method 4 - Recursive Feature Elimination - CV"
      ]
    },
    {
      "cell_type": "markdown",
      "metadata": {
        "id": "zEI2cfoqXlGp"
      },
      "source": [
        "RFE works by searching for a subset of features by starting with all features in the training dataset and successfully removing features until the desired number remains.\n",
        "\n",
        "This is achieved by fitting the given machine learning algorithm, ranking features by importance, discarding the least important features, and re-fitting the model. This process is repeated until a specified number of features remains.\n",
        "\n",
        "As this is a greedy approach by evaluating all the possible combinations of features, it also takes the longest time to implement and execute. "
      ]
    },
    {
      "cell_type": "code",
      "metadata": {
        "id": "Kvms1mmmXjGZ"
      },
      "source": [
        "from sklearn.feature_selection import RFECV\n",
        "from sklearn.svm import SVC\n",
        "from sklearn.model_selection import KFold\n",
        "\n",
        "def run_rfecv(X, y, split):\n",
        "  rf_model = RandomForestClassifier()\n",
        "  cv = KFold(n_splits=split, random_state=42)\n",
        "  rfecv = RFECV(estimator=rf_model, cv=cv, scoring='accuracy', verbose=1)\n",
        "  rfecv.fit(X, y)\n",
        "  return rfecv"
      ],
      "execution_count": 52,
      "outputs": []
    },
    {
      "cell_type": "code",
      "metadata": {
        "colab": {
          "base_uri": "https://localhost:8080/"
        },
        "id": "eqHO9KtQ_8ZG",
        "outputId": "adf7000e-6734-4063-d324-88ba492059f0"
      },
      "source": [
        "rfecv = run_rfecv(X,y,10)"
      ],
      "execution_count": 53,
      "outputs": [
        {
          "output_type": "stream",
          "text": [
            "Fitting estimator with 20 features.\n",
            "Fitting estimator with 19 features.\n",
            "Fitting estimator with 18 features.\n",
            "Fitting estimator with 17 features.\n",
            "Fitting estimator with 16 features.\n",
            "Fitting estimator with 15 features.\n",
            "Fitting estimator with 14 features.\n",
            "Fitting estimator with 13 features.\n",
            "Fitting estimator with 12 features.\n",
            "Fitting estimator with 11 features.\n",
            "Fitting estimator with 10 features.\n",
            "Fitting estimator with 9 features.\n",
            "Fitting estimator with 8 features.\n",
            "Fitting estimator with 7 features.\n",
            "Fitting estimator with 6 features.\n",
            "Fitting estimator with 5 features.\n",
            "Fitting estimator with 4 features.\n",
            "Fitting estimator with 3 features.\n",
            "Fitting estimator with 2 features.\n",
            "Fitting estimator with 20 features.\n",
            "Fitting estimator with 19 features.\n",
            "Fitting estimator with 18 features.\n",
            "Fitting estimator with 17 features.\n",
            "Fitting estimator with 16 features.\n",
            "Fitting estimator with 15 features.\n",
            "Fitting estimator with 14 features.\n",
            "Fitting estimator with 13 features.\n",
            "Fitting estimator with 12 features.\n",
            "Fitting estimator with 11 features.\n",
            "Fitting estimator with 10 features.\n",
            "Fitting estimator with 9 features.\n",
            "Fitting estimator with 8 features.\n",
            "Fitting estimator with 7 features.\n",
            "Fitting estimator with 6 features.\n",
            "Fitting estimator with 5 features.\n",
            "Fitting estimator with 4 features.\n",
            "Fitting estimator with 3 features.\n",
            "Fitting estimator with 2 features.\n",
            "Fitting estimator with 20 features.\n",
            "Fitting estimator with 19 features.\n",
            "Fitting estimator with 18 features.\n",
            "Fitting estimator with 17 features.\n",
            "Fitting estimator with 16 features.\n",
            "Fitting estimator with 15 features.\n",
            "Fitting estimator with 14 features.\n",
            "Fitting estimator with 13 features.\n",
            "Fitting estimator with 12 features.\n",
            "Fitting estimator with 11 features.\n",
            "Fitting estimator with 10 features.\n",
            "Fitting estimator with 9 features.\n",
            "Fitting estimator with 8 features.\n",
            "Fitting estimator with 7 features.\n",
            "Fitting estimator with 6 features.\n",
            "Fitting estimator with 5 features.\n",
            "Fitting estimator with 4 features.\n",
            "Fitting estimator with 3 features.\n",
            "Fitting estimator with 2 features.\n",
            "Fitting estimator with 20 features.\n",
            "Fitting estimator with 19 features.\n",
            "Fitting estimator with 18 features.\n",
            "Fitting estimator with 17 features.\n",
            "Fitting estimator with 16 features.\n",
            "Fitting estimator with 15 features.\n",
            "Fitting estimator with 14 features.\n",
            "Fitting estimator with 13 features.\n",
            "Fitting estimator with 12 features.\n",
            "Fitting estimator with 11 features.\n",
            "Fitting estimator with 10 features.\n",
            "Fitting estimator with 9 features.\n",
            "Fitting estimator with 8 features.\n",
            "Fitting estimator with 7 features.\n",
            "Fitting estimator with 6 features.\n",
            "Fitting estimator with 5 features.\n",
            "Fitting estimator with 4 features.\n",
            "Fitting estimator with 3 features.\n",
            "Fitting estimator with 2 features.\n",
            "Fitting estimator with 20 features.\n",
            "Fitting estimator with 19 features.\n",
            "Fitting estimator with 18 features.\n",
            "Fitting estimator with 17 features.\n",
            "Fitting estimator with 16 features.\n",
            "Fitting estimator with 15 features.\n",
            "Fitting estimator with 14 features.\n",
            "Fitting estimator with 13 features.\n",
            "Fitting estimator with 12 features.\n",
            "Fitting estimator with 11 features.\n",
            "Fitting estimator with 10 features.\n",
            "Fitting estimator with 9 features.\n",
            "Fitting estimator with 8 features.\n",
            "Fitting estimator with 7 features.\n",
            "Fitting estimator with 6 features.\n",
            "Fitting estimator with 5 features.\n",
            "Fitting estimator with 4 features.\n",
            "Fitting estimator with 3 features.\n",
            "Fitting estimator with 2 features.\n",
            "Fitting estimator with 20 features.\n",
            "Fitting estimator with 19 features.\n",
            "Fitting estimator with 18 features.\n",
            "Fitting estimator with 17 features.\n",
            "Fitting estimator with 16 features.\n",
            "Fitting estimator with 15 features.\n",
            "Fitting estimator with 14 features.\n",
            "Fitting estimator with 13 features.\n",
            "Fitting estimator with 12 features.\n",
            "Fitting estimator with 11 features.\n",
            "Fitting estimator with 10 features.\n",
            "Fitting estimator with 9 features.\n",
            "Fitting estimator with 8 features.\n",
            "Fitting estimator with 7 features.\n",
            "Fitting estimator with 6 features.\n",
            "Fitting estimator with 5 features.\n",
            "Fitting estimator with 4 features.\n",
            "Fitting estimator with 3 features.\n",
            "Fitting estimator with 2 features.\n",
            "Fitting estimator with 20 features.\n",
            "Fitting estimator with 19 features.\n",
            "Fitting estimator with 18 features.\n",
            "Fitting estimator with 17 features.\n",
            "Fitting estimator with 16 features.\n",
            "Fitting estimator with 15 features.\n",
            "Fitting estimator with 14 features.\n",
            "Fitting estimator with 13 features.\n",
            "Fitting estimator with 12 features.\n",
            "Fitting estimator with 11 features.\n",
            "Fitting estimator with 10 features.\n",
            "Fitting estimator with 9 features.\n",
            "Fitting estimator with 8 features.\n",
            "Fitting estimator with 7 features.\n",
            "Fitting estimator with 6 features.\n",
            "Fitting estimator with 5 features.\n",
            "Fitting estimator with 4 features.\n",
            "Fitting estimator with 3 features.\n",
            "Fitting estimator with 2 features.\n",
            "Fitting estimator with 20 features.\n",
            "Fitting estimator with 19 features.\n",
            "Fitting estimator with 18 features.\n",
            "Fitting estimator with 17 features.\n",
            "Fitting estimator with 16 features.\n",
            "Fitting estimator with 15 features.\n",
            "Fitting estimator with 14 features.\n",
            "Fitting estimator with 13 features.\n",
            "Fitting estimator with 12 features.\n",
            "Fitting estimator with 11 features.\n",
            "Fitting estimator with 10 features.\n",
            "Fitting estimator with 9 features.\n",
            "Fitting estimator with 8 features.\n",
            "Fitting estimator with 7 features.\n",
            "Fitting estimator with 6 features.\n",
            "Fitting estimator with 5 features.\n",
            "Fitting estimator with 4 features.\n",
            "Fitting estimator with 3 features.\n",
            "Fitting estimator with 2 features.\n",
            "Fitting estimator with 20 features.\n",
            "Fitting estimator with 19 features.\n",
            "Fitting estimator with 18 features.\n",
            "Fitting estimator with 17 features.\n",
            "Fitting estimator with 16 features.\n",
            "Fitting estimator with 15 features.\n",
            "Fitting estimator with 14 features.\n",
            "Fitting estimator with 13 features.\n",
            "Fitting estimator with 12 features.\n",
            "Fitting estimator with 11 features.\n",
            "Fitting estimator with 10 features.\n",
            "Fitting estimator with 9 features.\n",
            "Fitting estimator with 8 features.\n",
            "Fitting estimator with 7 features.\n",
            "Fitting estimator with 6 features.\n",
            "Fitting estimator with 5 features.\n",
            "Fitting estimator with 4 features.\n",
            "Fitting estimator with 3 features.\n",
            "Fitting estimator with 2 features.\n",
            "Fitting estimator with 20 features.\n",
            "Fitting estimator with 19 features.\n",
            "Fitting estimator with 18 features.\n",
            "Fitting estimator with 17 features.\n",
            "Fitting estimator with 16 features.\n",
            "Fitting estimator with 15 features.\n",
            "Fitting estimator with 14 features.\n",
            "Fitting estimator with 13 features.\n",
            "Fitting estimator with 12 features.\n",
            "Fitting estimator with 11 features.\n",
            "Fitting estimator with 10 features.\n",
            "Fitting estimator with 9 features.\n",
            "Fitting estimator with 8 features.\n",
            "Fitting estimator with 7 features.\n",
            "Fitting estimator with 6 features.\n",
            "Fitting estimator with 5 features.\n",
            "Fitting estimator with 4 features.\n",
            "Fitting estimator with 3 features.\n",
            "Fitting estimator with 2 features.\n",
            "Fitting estimator with 20 features.\n",
            "Fitting estimator with 19 features.\n",
            "Fitting estimator with 18 features.\n",
            "Fitting estimator with 17 features.\n",
            "Fitting estimator with 16 features.\n",
            "Fitting estimator with 15 features.\n",
            "Fitting estimator with 14 features.\n",
            "Fitting estimator with 13 features.\n",
            "Fitting estimator with 12 features.\n",
            "Fitting estimator with 11 features.\n",
            "Fitting estimator with 10 features.\n",
            "Fitting estimator with 9 features.\n",
            "Fitting estimator with 8 features.\n",
            "Fitting estimator with 7 features.\n",
            "Fitting estimator with 6 features.\n"
          ],
          "name": "stdout"
        }
      ]
    },
    {
      "cell_type": "code",
      "metadata": {
        "colab": {
          "base_uri": "https://localhost:8080/"
        },
        "id": "XSGxS4mkYKsG",
        "outputId": "f07ac3fc-285a-42b7-b136-77f3e4caf719"
      },
      "source": [
        "rfecv.grid_scores_"
      ],
      "execution_count": 54,
      "outputs": [
        {
          "output_type": "execute_result",
          "data": {
            "text/plain": [
              "array([0.6785, 0.793 , 0.8695, 0.914 , 0.921 , 0.9135, 0.914 , 0.902 ,\n",
              "       0.905 , 0.898 , 0.899 , 0.8975, 0.8895, 0.8875, 0.88  , 0.892 ,\n",
              "       0.8895, 0.8905, 0.882 , 0.894 ])"
            ]
          },
          "metadata": {
            "tags": []
          },
          "execution_count": 54
        }
      ]
    },
    {
      "cell_type": "code",
      "metadata": {
        "colab": {
          "base_uri": "https://localhost:8080/"
        },
        "id": "iHZUg2l7Z3LC",
        "outputId": "2c4afa02-302c-4647-b221-75e27a86ce29"
      },
      "source": [
        "print(\"best acccuracy from rfecv\", np.max(rfecv.grid_scores_))"
      ],
      "execution_count": 57,
      "outputs": [
        {
          "output_type": "stream",
          "text": [
            "best acccuracy from rfecv 0.921\n"
          ],
          "name": "stdout"
        }
      ]
    },
    {
      "cell_type": "code",
      "metadata": {
        "colab": {
          "base_uri": "https://localhost:8080/"
        },
        "id": "X8AN5GwnlNfW",
        "outputId": "2a54ab65-ad29-45ba-946f-44fcf98ffc42"
      },
      "source": [
        "print(\"best num features from rfecv\", rfecv.n_features_)"
      ],
      "execution_count": 59,
      "outputs": [
        {
          "output_type": "stream",
          "text": [
            "best num features from rfecv 5\n"
          ],
          "name": "stdout"
        }
      ]
    },
    {
      "cell_type": "code",
      "metadata": {
        "colab": {
          "base_uri": "https://localhost:8080/",
          "height": 394
        },
        "id": "P4AeWel_YAlF",
        "outputId": "e927d477-37bf-4a34-84e1-58b760f4b4f6"
      },
      "source": [
        "plt.figure(figsize=(8,6))\n",
        "plt.xlabel(\"Number of features selected\")\n",
        "plt.ylabel(\"Cross validation score (nb of correct classifications)\")\n",
        "plt.plot(range(0, len(rfecv.grid_scores_)),rfecv.grid_scores_)\n",
        "plt.grid()\n",
        "plt.show()"
      ],
      "execution_count": 64,
      "outputs": [
        {
          "output_type": "display_data",
          "data": {
            "image/png": "[encoded data removed]",
            "text/plain": [
              "<Figure size 576x432 with 1 Axes>"
            ]
          },
          "metadata": {
            "tags": []
          }
        }
      ]
    },
    {
      "cell_type": "code",
      "metadata": {
        "colab": {
          "base_uri": "https://localhost:8080/"
        },
        "id": "v0WddjYLehUe",
        "outputId": "75f763b3-bf7c-4641-ef20-3e4c32f8a254"
      },
      "source": [
        "print(\"the optimal num of features is\", rfecv.n_features_, \"with best accuracy of\", np.max(rfecv.grid_scores_))"
      ],
      "execution_count": 65,
      "outputs": [
        {
          "output_type": "stream",
          "text": [
            "the optimal num of features is 5 with best accuracy of 0.921\n"
          ],
          "name": "stdout"
        }
      ]
    },
    {
      "cell_type": "markdown",
      "metadata": {
        "id": "ikpfPjPzZJYi"
      },
      "source": [
        "After RFE, we are down to just 5 features only, with accuracy of close to 0.92\n",
        "\n",
        "Which 5 features?"
      ]
    },
    {
      "cell_type": "code",
      "metadata": {
        "colab": {
          "base_uri": "https://localhost:8080/"
        },
        "id": "rqdHgJkbYdVM",
        "outputId": "e5e085ee-1396-4703-df78-83102dfb5497"
      },
      "source": [
        "for i in range(X.shape[1]):\n",
        "\tprint('{:>14}  {:>10}  {:>12}'.format(X.columns[i], str(rfecv.support_[i]), rfecv.ranking_[i]))"
      ],
      "execution_count": 66,
      "outputs": [
        {
          "output_type": "stream",
          "text": [
            " battery_power        True             1\n",
            "          blue       False            12\n",
            "   clock_speed       False             7\n",
            "      dual_sim       False            15\n",
            "            fc       False             8\n",
            "        four_g       False            13\n",
            "    int_memory       False             2\n",
            "         m_dep       False             9\n",
            "     mobile_wt        True             1\n",
            "       n_cores       False            10\n",
            "            pc       False             4\n",
            "     px_height        True             1\n",
            "      px_width        True             1\n",
            "           ram        True             1\n",
            "          sc_h       False             6\n",
            "          sc_w       False             5\n",
            "     talk_time       False             3\n",
            "       three_g       False            16\n",
            "  touch_screen       False            11\n",
            "          wifi       False            14\n"
          ],
          "name": "stdout"
        }
      ]
    },
    {
      "cell_type": "code",
      "metadata": {
        "colab": {
          "base_uri": "https://localhost:8080/"
        },
        "id": "q2rf6XnlhN7F",
        "outputId": "2dbf18f7-632d-4882-daee-ae019b7237b3"
      },
      "source": [
        "X.columns[np.where(rfecv.support_ == True)[0]]"
      ],
      "execution_count": 67,
      "outputs": [
        {
          "output_type": "execute_result",
          "data": {
            "text/plain": [
              "Index(['battery_power', 'mobile_wt', 'px_height', 'px_width', 'ram'], dtype='object')"
            ]
          },
          "metadata": {
            "tags": []
          },
          "execution_count": 67
        }
      ]
    },
    {
      "cell_type": "code",
      "metadata": {
        "colab": {
          "base_uri": "https://localhost:8080/"
        },
        "id": "HKQoKWUFYvZh",
        "outputId": "0529b3a7-294d-478d-8fdf-33b63b587d0d"
      },
      "source": [
        "rfecv.estimator_.feature_importances_"
      ],
      "execution_count": 69,
      "outputs": [
        {
          "output_type": "execute_result",
          "data": {
            "text/plain": [
              "array([0.11290985, 0.04440921, 0.08061542, 0.08202903, 0.68003649])"
            ]
          },
          "metadata": {
            "tags": []
          },
          "execution_count": 69
        }
      ]
    },
    {
      "cell_type": "code",
      "metadata": {
        "colab": {
          "base_uri": "https://localhost:8080/",
          "height": 377
        },
        "id": "R2TRnsYqhX3h",
        "outputId": "1a457ac7-36cc-4be8-a3d0-798e66f9c14d"
      },
      "source": [
        "rfecv_importance_score = pd.Series(rfecv.estimator_.feature_importances_)\n",
        "rfecv_importance_score.index = X.columns[np.where(rfecv.support_ == True)[0]]\n",
        "\n",
        "plt.figure(figsize=(8,6))\n",
        "rfecv_importance_score.nlargest(len(rfecv_importance_score)).plot(kind='barh')\n",
        "plt.grid()\n",
        "plt.show()"
      ],
      "execution_count": 70,
      "outputs": [
        {
          "output_type": "display_data",
          "data": {
            "image/png": "[encoded data removed]",
            "text/plain": [
              "<Figure size 576x432 with 1 Axes>"
            ]
          },
          "metadata": {
            "tags": []
          }
        }
      ]
    },
    {
      "cell_type": "markdown",
      "metadata": {
        "id": "tP2eBH7970wT"
      },
      "source": [
        "# Conclusion\n",
        "\n",
        "from ANOVA gridsearch, we could see that 4 features are selected and they are: \n",
        "\n",
        "Accuracy: 0.916\n",
        "\n",
        "['battery_power', 'px_height', 'px_width', 'ram']\n",
        "\n",
        "from RFECV, 5 features are selected and they are :\n",
        "\n",
        "Accuracy: 0.921\n",
        "\n",
        "['battery_power', 'mobile_wt', 'px_height', 'px_width', 'ram']\n",
        "\n",
        "instead of using all the 20 features for model training, we could actually only use 4 - 5 features which yield better results. \n",
        "\n",
        "with model tuning, our results could even be better. "
      ]
    },
    {
      "cell_type": "code",
      "metadata": {
        "id": "VTyXIr3z8Oew"
      },
      "source": [
        ""
      ],
      "execution_count": 70,
      "outputs": []
    }
  ]
}