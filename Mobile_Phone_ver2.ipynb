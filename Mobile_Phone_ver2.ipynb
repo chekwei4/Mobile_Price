{
  "nbformat": 4,
  "nbformat_minor": 0,
  "metadata": {
    "colab": {
      "name": "Mobile_Phone_ver2.ipynb",
      "provenance": [],
      "collapsed_sections": []
    },
    "kernelspec": {
      "name": "python3",
      "display_name": "Python 3"
    },
    "language_info": {
      "name": "python"
    }
  },
  "cells": [
    {
      "cell_type": "markdown",
      "metadata": {
        "id": "0tkVp2b8nhej"
      },
      "source": [
        "# Mobile Phone Price Range Prediction"
      ]
    },
    {
      "cell_type": "markdown",
      "metadata": {
        "id": "s4eK9iconb2c"
      },
      "source": [
        "Kaggle: https://www.kaggle.com/iabhishekofficial/mobile-price-classification\n",
        "\n",
        "Bob has started his own mobile company. He wants to give tough fight to big companies like Apple,Samsung etc.\n",
        "\n",
        "He does not know how to estimate price of mobiles his company creates. In this competitive mobile phone market you cannot simply assume things. To solve this problem he collects sales data of mobile phones of various companies.\n",
        "\n",
        "Bob wants to find out some relation between features of a mobile phone(eg:- RAM,Internal Memory etc) and its selling price. But he is not so good at Machine Learning. So he needs your help to solve this problem.\n",
        "\n",
        "In this problem you do not have to predict actual price but a price range indicating how high the price is"
      ]
    },
    {
      "cell_type": "markdown",
      "metadata": {
        "id": "OT0OPL3znr9H"
      },
      "source": [
        "# Objective\n",
        "\n",
        "To examine which are the features to keep/remove, and train the model and observe accuracy improvement."
      ]
    },
    {
      "cell_type": "code",
      "metadata": {
        "id": "M1zNJ-bMOIik"
      },
      "source": [
        "import pandas as pd \n",
        "import matplotlib.pyplot as plt\n",
        "import seaborn as sns\n",
        "import numpy as np\n",
        "import warnings\n",
        "warnings.filterwarnings('ignore')"
      ],
      "execution_count": null,
      "outputs": []
    },
    {
      "cell_type": "code",
      "metadata": {
        "id": "ON_1GBQkOeHH"
      },
      "source": [
        "df = pd.read_csv('train.csv')"
      ],
      "execution_count": null,
      "outputs": []
    },
    {
      "cell_type": "code",
      "metadata": {
        "id": "gm4rKaHZOfA_"
      },
      "source": [
        "#Splitting the dataset into the Training set and Test set\n",
        "X = df.iloc[:, :-1]\n",
        "y = df.iloc[:, -1]\n",
        "from sklearn.model_selection import train_test_split\n",
        "X_train, X_test, y_train, y_test = train_test_split(X, y, test_size = 0.2, random_state = 42)"
      ],
      "execution_count": null,
      "outputs": []
    },
    {
      "cell_type": "markdown",
      "metadata": {
        "id": "1cMcA6vXh_Cw"
      },
      "source": [
        "# Variance Threshold"
      ]
    },
    {
      "cell_type": "markdown",
      "metadata": {
        "id": "PUGcJsI1iDzs"
      },
      "source": [
        "This method removes features with variation below a certain cutoff.\n",
        "\n",
        "Variance is the measurement of the spread between numbers in a variable. It measures how far a number is from the mean and every number in a variable.\n",
        "\n",
        "The idea is when a feature doesn’t vary much within itself, it generally has very little predictive power. For this, we set threshold = 0. we will drop features that are 100% the same aka variance=0"
      ]
    },
    {
      "cell_type": "code",
      "metadata": {
        "id": "saqWoxn9iHmT"
      },
      "source": [
        "from sklearn.feature_selection import VarianceThreshold\n",
        "\n",
        "def get_feature_variance_threshold(X_train):\n",
        "  var_threshold = VarianceThreshold(threshold=0)\n",
        "  var_threshold.fit(X_train) #apply on training dataset only\n",
        "  var_threshold.get_support()\n",
        "  if sum(var_threshold.get_support()) > 0:\n",
        "    constant_col = [col for col in X_train.columns if col not in X_train.columns[var_threshold.get_support()]]\n",
        "    return constant_col"
      ],
      "execution_count": null,
      "outputs": []
    },
    {
      "cell_type": "code",
      "metadata": {
        "colab": {
          "base_uri": "https://localhost:8080/"
        },
        "id": "b0n2XkE4iKWI",
        "outputId": "f8f368de-dbd0-48dc-f297-dee674abab57"
      },
      "source": [
        "constant_col = get_feature_variance_threshold(X)\n",
        "constant_col"
      ],
      "execution_count": null,
      "outputs": [
        {
          "output_type": "execute_result",
          "data": {
            "text/plain": [
              "[]"
            ]
          },
          "metadata": {
            "tags": []
          },
          "execution_count": 5
        }
      ]
    },
    {
      "cell_type": "markdown",
      "metadata": {
        "id": "Pj_RllRBigZC"
      },
      "source": [
        "We are not seeing any unary features in the dataset."
      ]
    },
    {
      "cell_type": "markdown",
      "metadata": {
        "id": "EBOWmsI6b4g2"
      },
      "source": [
        "# Correlations"
      ]
    },
    {
      "cell_type": "markdown",
      "metadata": {
        "id": "rLTwENReir8U"
      },
      "source": [
        "Correlation is a measure of the linear relationship of 2 or more variables. Through correlation, we can predict one variable from the other. The logic behind using correlation for feature selection is that the good variables are highly correlated with the target. Furthermore, variables should be correlated with the target but should be uncorrelated among themselves.\n",
        "\n",
        "If two variables are correlated, we can predict one from the other. Therefore, if two features are correlated, the model only really needs one of them, as the second one does not add additional information. \n",
        "\n",
        "Credit: https://www.analyticsvidhya.com/blog/2020/10/feature-selection-techniques-in-machine-learning/"
      ]
    },
    {
      "cell_type": "code",
      "metadata": {
        "colab": {
          "base_uri": "https://localhost:8080/",
          "height": 685
        },
        "id": "zd_HKQ1_c_ap",
        "outputId": "3a75aa89-421c-4734-fa3a-303c30e161de"
      },
      "source": [
        "sns.set_theme(style=\"white\")\n",
        "plt.figure(figsize=(12,10))\n",
        "corr = df.drop('price_range', axis=1).corr()\n",
        "mask = np.triu(np.ones_like(corr, dtype=bool))\n",
        "sns.heatmap(corr, cmap='RdBu', mask=mask, linewidths=.5, vmin=-1, vmax=1)"
      ],
      "execution_count": null,
      "outputs": [
        {
          "output_type": "execute_result",
          "data": {
            "text/plain": [
              "<matplotlib.axes._subplots.AxesSubplot at 0x7f6bea225e90>"
            ]
          },
          "metadata": {
            "tags": []
          },
          "execution_count": 6
        },
        {
          "output_type": "display_data",
          "data": {
            "image/png": "[encoded data removed]",
            "text/plain": [
              "<Figure size 864x720 with 2 Axes>"
            ]
          },
          "metadata": {
            "tags": []
          }
        }
      ]
    },
    {
      "cell_type": "code",
      "metadata": {
        "id": "m2Pb39iAb4LK"
      },
      "source": [
        "def correlation(dataset, threshold):\n",
        "  col_corr = set()# Set of all the names of correlated columns\n",
        "  corr_matrix = df.drop('price_range', axis=1).corr()\n",
        "  for i in range(len(corr_matrix.columns)):\n",
        "    for j in range(i):\n",
        "      if abs(corr_matrix.iloc[i, j]) > threshold: # we are interested in absolute coeff value\n",
        "        colname = corr_matrix.columns[i] # getting the name of column\n",
        "        col_corr.add(colname)\n",
        "        return col_corr"
      ],
      "execution_count": null,
      "outputs": []
    },
    {
      "cell_type": "code",
      "metadata": {
        "id": "TrAzIq7tb4JO"
      },
      "source": [
        "corr_features = correlation(df, 0.85)"
      ],
      "execution_count": null,
      "outputs": []
    },
    {
      "cell_type": "code",
      "metadata": {
        "id": "T4bdbkMgb33z"
      },
      "source": [
        "corr_features"
      ],
      "execution_count": null,
      "outputs": []
    },
    {
      "cell_type": "markdown",
      "metadata": {
        "id": "Zc-FpUQoczNO"
      },
      "source": [
        "No features are highly correlated, of threshold 0.85 and beyond. "
      ]
    },
    {
      "cell_type": "markdown",
      "metadata": {
        "id": "HpUo_BsPOk0h"
      },
      "source": [
        "# Chi2 Test for categorical features"
      ]
    },
    {
      "cell_type": "markdown",
      "metadata": {
        "id": "yrj8ITvWPYDQ"
      },
      "source": [
        "A chi-square test is used in statistics to test the independence of two events.\n",
        "\n",
        "In feature selection, we aim to select the features which are highly dependent on the response.\n",
        "\n",
        "When two features are independent, the observed count is close to the expected count, thus we will have smaller Chi-Square value. So high Chi-Square value indicates that the hypothesis of independence is incorrect. In simple words, higher the Chi-Square value the feature is more dependent on the response and it can be selected for model training.\n",
        "\n",
        "credit: https://towardsdatascience.com/chi-square-test-for-feature-selection-in-machine-learning-206b1f0b8223\n"
      ]
    },
    {
      "cell_type": "code",
      "metadata": {
        "colab": {
          "base_uri": "https://localhost:8080/"
        },
        "id": "vlT-s8ohOkyr",
        "outputId": "f291147c-57c4-4309-ffb8-6a6d458272bd"
      },
      "source": [
        "nominal_feature = [feature for feature in df.columns if len(df[feature].unique())<7 and feature != 'price_range']\n",
        "print(\"Nominal categorical variables Count: {}\".format(len(nominal_feature)))"
      ],
      "execution_count": null,
      "outputs": [
        {
          "output_type": "stream",
          "text": [
            "Nominal categorical variables Count: 6\n"
          ],
          "name": "stdout"
        }
      ]
    },
    {
      "cell_type": "code",
      "metadata": {
        "colab": {
          "base_uri": "https://localhost:8080/"
        },
        "id": "LHzTRYaAOtM5",
        "outputId": "03a5daee-088f-4f14-c449-8a1c1500dddc"
      },
      "source": [
        "nominal_feature"
      ],
      "execution_count": null,
      "outputs": [
        {
          "output_type": "execute_result",
          "data": {
            "text/plain": [
              "['blue', 'dual_sim', 'four_g', 'three_g', 'touch_screen', 'wifi']"
            ]
          },
          "metadata": {
            "tags": []
          },
          "execution_count": 11
        }
      ]
    },
    {
      "cell_type": "code",
      "metadata": {
        "id": "Z6Sy0OGDOtX9"
      },
      "source": [
        "from sklearn.feature_selection import SelectKBest\n",
        "from sklearn.feature_selection import chi2\n",
        "\n",
        "ordered_rank_features = SelectKBest(score_func=chi2, k=len(nominal_feature))\n",
        "ordered_features = ordered_rank_features.fit(X[nominal_feature],y)\n",
        "#we are putting all 20 features in X and see their ranking"
      ],
      "execution_count": null,
      "outputs": []
    },
    {
      "cell_type": "code",
      "metadata": {
        "colab": {
          "base_uri": "https://localhost:8080/"
        },
        "id": "cG9R5FBKPQ8w",
        "outputId": "941b59f7-eb86-4934-e8e6-5a40d443e538"
      },
      "source": [
        "ordered_features.scores_"
      ],
      "execution_count": null,
      "outputs": [
        {
          "output_type": "execute_result",
          "data": {
            "text/plain": [
              "array([0.72323232, 0.63101079, 1.52157239, 0.32764281, 1.92842942,\n",
              "       0.42209073])"
            ]
          },
          "metadata": {
            "tags": []
          },
          "execution_count": 13
        }
      ]
    },
    {
      "cell_type": "code",
      "metadata": {
        "colab": {
          "base_uri": "https://localhost:8080/",
          "height": 377
        },
        "id": "AuNRuRyOPVWE",
        "outputId": "1ea41654-c470-4656-f275-38adb1ce9804"
      },
      "source": [
        "plt.figure(figsize=(8,6))\n",
        "feat_importances = pd.Series(ordered_features.scores_, index=nominal_feature)\n",
        "feat_importances.nlargest().plot(kind='barh')\n",
        "plt.show()"
      ],
      "execution_count": null,
      "outputs": [
        {
          "output_type": "display_data",
          "data": {
            "image/png": "[encoded data removed]",
            "text/plain": [
              "<Figure size 576x432 with 1 Axes>"
            ]
          },
          "metadata": {
            "tags": []
          }
        }
      ]
    },
    {
      "cell_type": "markdown",
      "metadata": {
        "id": "lhP80GsQPWOx"
      },
      "source": [
        "# ANOVA Test for continuous features"
      ]
    },
    {
      "cell_type": "markdown",
      "metadata": {
        "id": "eQ8sgb1KPmHe"
      },
      "source": [
        "This is a feature selection method for numerical input data when the target variable is categorical.\n",
        "\n",
        "credit: https://machinelearningmastery.com/feature-selection-with-numerical-input-data/\n",
        "\n",
        "ANOVA is an acronym for “analysis of variance” and is a parametric statistical hypothesis test for determining whether the means from two or more samples of data (often three or more) come from the same distribution or not.\n",
        "\n",
        "ANOVA is used when one variable is numeric and one is categorical, such as numerical input variables and a classification target variable in a classification task.\n",
        "\n",
        "The results of this test can be used for feature selection where those features that are independent of the target variable can be removed from the dataset."
      ]
    },
    {
      "cell_type": "code",
      "metadata": {
        "colab": {
          "base_uri": "https://localhost:8080/"
        },
        "id": "BrewsM_3Ps4J",
        "outputId": "78988edb-2822-4b00-e904-48a74cfec78a"
      },
      "source": [
        "cont_feature = []\n",
        "\n",
        "for i in df.columns:\n",
        "  if i not in nominal_feature and i != 'price_range':\n",
        "        cont_feature.append(i)\n",
        "\n",
        "print(\"Cont variables Count: {}\".format(len(cont_feature)))"
      ],
      "execution_count": null,
      "outputs": [
        {
          "output_type": "stream",
          "text": [
            "Cont variables Count: 14\n"
          ],
          "name": "stdout"
        }
      ]
    },
    {
      "cell_type": "code",
      "metadata": {
        "colab": {
          "base_uri": "https://localhost:8080/"
        },
        "id": "mnCvrRWZPuPM",
        "outputId": "5fadf423-e6fd-4996-dd47-89402a8c92dc"
      },
      "source": [
        "cont_feature"
      ],
      "execution_count": null,
      "outputs": [
        {
          "output_type": "execute_result",
          "data": {
            "text/plain": [
              "['battery_power',\n",
              " 'clock_speed',\n",
              " 'fc',\n",
              " 'int_memory',\n",
              " 'm_dep',\n",
              " 'mobile_wt',\n",
              " 'n_cores',\n",
              " 'pc',\n",
              " 'px_height',\n",
              " 'px_width',\n",
              " 'ram',\n",
              " 'sc_h',\n",
              " 'sc_w',\n",
              " 'talk_time']"
            ]
          },
          "metadata": {
            "tags": []
          },
          "execution_count": 16
        }
      ]
    },
    {
      "cell_type": "code",
      "metadata": {
        "id": "zbkjtpLdPjUa"
      },
      "source": [
        "from sklearn.feature_selection import SelectKBest\n",
        "from sklearn.feature_selection import f_classif\n",
        "\n",
        "fs = SelectKBest(score_func=f_classif, k='all')\n",
        "fs.fit(X[cont_feature], y)\n",
        "\n",
        "anova_rank = pd.Series(fs.scores_)\n",
        "anova_rank.index = cont_feature\n",
        "anova_rank_df = pd.DataFrame(anova_rank)\n",
        "anova_rank_df.reset_index(inplace=True)\n",
        "anova_rank_df.columns = ['feature','anova_score']\n",
        "anova_rank_df.sort_values('anova_score', ascending=False, inplace=True)\n",
        "bottom_3_anova_score = anova_rank_df['feature'].tail(3)"
      ],
      "execution_count": null,
      "outputs": []
    },
    {
      "cell_type": "code",
      "metadata": {
        "colab": {
          "base_uri": "https://localhost:8080/"
        },
        "id": "P5iqpXrRFULz",
        "outputId": "689ea40b-6500-4ff3-926c-0222abe6e689"
      },
      "source": [
        "bottom_3_anova_score"
      ],
      "execution_count": null,
      "outputs": [
        {
          "output_type": "execute_result",
          "data": {
            "text/plain": [
              "7             pc\n",
              "2             fc\n",
              "1    clock_speed\n",
              "Name: feature, dtype: object"
            ]
          },
          "metadata": {
            "tags": []
          },
          "execution_count": 147
        }
      ]
    },
    {
      "cell_type": "code",
      "metadata": {
        "colab": {
          "base_uri": "https://localhost:8080/"
        },
        "id": "jj1vA35xGO5W",
        "outputId": "046e8bb1-ea2c-452c-d945-7dd24a189e3a"
      },
      "source": [
        "anova_rank.sort_values(ascending=False)"
      ],
      "execution_count": null,
      "outputs": [
        {
          "output_type": "execute_result",
          "data": {
            "text/plain": [
              "ram              3520.110824\n",
              "battery_power      31.598158\n",
              "px_width           22.620882\n",
              "px_height          19.484842\n",
              "mobile_wt           3.594318\n",
              "int_memory          2.922996\n",
              "n_cores             2.625415\n",
              "sc_h                2.225984\n",
              "sc_w                1.671000\n",
              "talk_time           1.628811\n",
              "m_dep               1.500682\n",
              "pc                  0.825446\n",
              "fc                  0.772182\n",
              "clock_speed         0.493708\n",
              "dtype: float64"
            ]
          },
          "metadata": {
            "tags": []
          },
          "execution_count": 143
        }
      ]
    },
    {
      "cell_type": "code",
      "metadata": {
        "colab": {
          "base_uri": "https://localhost:8080/",
          "height": 377
        },
        "id": "qZ5vKv41FiVZ",
        "outputId": "fb1e6764-acdd-4ed7-f1c3-69e1a7392726"
      },
      "source": [
        "plt.figure(figsize=(8,6))\n",
        "anova_rank_importances = pd.Series(fs.scores_, index=cont_feature)\n",
        "anova_rank_importances.sort_values(ascending=False).plot(kind='barh')\n",
        "plt.show()"
      ],
      "execution_count": null,
      "outputs": [
        {
          "output_type": "display_data",
          "data": {
            "image/png": "[encoded data removed]",
            "text/plain": [
              "<Figure size 576x432 with 1 Axes>"
            ]
          },
          "metadata": {
            "tags": []
          }
        }
      ]
    },
    {
      "cell_type": "markdown",
      "metadata": {
        "id": "Ubxz6DH7QLHW"
      },
      "source": [
        "Using ANOVA on the continuous features, we can see that below are the few features that are ***independent*** of the target feature. \n",
        "\n",
        "pc                  0.825446\n",
        "\n",
        "fc                  0.772182\n",
        "\n",
        "clock_speed         0.493708\n",
        "\n",
        "We can also see the ram has dominantly high dependency of the target feature. This is an important feature which we will keep. \n"
      ]
    },
    {
      "cell_type": "markdown",
      "metadata": {
        "id": "v59NdL90QBei"
      },
      "source": [
        "# Feature Importance"
      ]
    },
    {
      "cell_type": "code",
      "metadata": {
        "colab": {
          "base_uri": "https://localhost:8080/"
        },
        "id": "FbdcOaQuQkBq",
        "outputId": "d4c71afc-19c4-479e-9497-1d3ac098ec5a"
      },
      "source": [
        "from sklearn.ensemble import RandomForestClassifier\n",
        "rf_model = RandomForestClassifier()\n",
        "rf_model.fit(X, y)\n",
        "\n",
        "feature_importance_score = pd.Series(rf_model.feature_importances_)\n",
        "feature_importance_score.index = X.columns\n",
        "feature_importance_score.nlargest(len(feature_importance_score))"
      ],
      "execution_count": null,
      "outputs": [
        {
          "output_type": "execute_result",
          "data": {
            "text/plain": [
              "ram              0.477915\n",
              "battery_power    0.075051\n",
              "px_height        0.058402\n",
              "px_width         0.055645\n",
              "mobile_wt        0.040302\n",
              "int_memory       0.036488\n",
              "pc               0.030440\n",
              "sc_w             0.029354\n",
              "talk_time        0.029258\n",
              "clock_speed      0.028368\n",
              "sc_h             0.028047\n",
              "m_dep            0.025337\n",
              "fc               0.023803\n",
              "n_cores          0.022004\n",
              "dual_sim         0.007372\n",
              "blue             0.007209\n",
              "touch_screen     0.006723\n",
              "wifi             0.006501\n",
              "four_g           0.006500\n",
              "three_g          0.005282\n",
              "dtype: float64"
            ]
          },
          "metadata": {
            "tags": []
          },
          "execution_count": 19
        }
      ]
    },
    {
      "cell_type": "code",
      "metadata": {
        "colab": {
          "base_uri": "https://localhost:8080/",
          "height": 377
        },
        "id": "ESW9JTshResl",
        "outputId": "97ec7c8a-604a-4324-9d2b-8629fecb6c3f"
      },
      "source": [
        "plt.figure(figsize=(8,6))\n",
        "feature_importance_score.nlargest(len(feature_importance_score)).plot(kind='barh')\n",
        "plt.show()"
      ],
      "execution_count": null,
      "outputs": [
        {
          "output_type": "display_data",
          "data": {
            "image/png": "[encoded data removed]",
            "text/plain": [
              "<Figure size 576x432 with 1 Axes>"
            ]
          },
          "metadata": {
            "tags": []
          }
        }
      ]
    },
    {
      "cell_type": "markdown",
      "metadata": {
        "id": "hlT4T8dWRhj-"
      },
      "source": [
        "After performing Chi Square, ANOVA, Feature Importance, we can see that few features are most desirable to be used to train our model. \n",
        "\n",
        "1. ram\n",
        "2. battery_power\n",
        "3. px_width\n",
        "4. px_height"
      ]
    },
    {
      "cell_type": "markdown",
      "metadata": {
        "id": "dIGwFDxJR-lz"
      },
      "source": [
        "# Method 1 - Baseline Model (Kitchen sink)"
      ]
    },
    {
      "cell_type": "code",
      "metadata": {
        "colab": {
          "base_uri": "https://localhost:8080/",
          "height": 302
        },
        "id": "VrhblK6DSFxt",
        "outputId": "7df9229b-9831-48f0-ed28-32f0a281c671"
      },
      "source": [
        "sns.countplot(df['price_range'])"
      ],
      "execution_count": null,
      "outputs": [
        {
          "output_type": "execute_result",
          "data": {
            "text/plain": [
              "<matplotlib.axes._subplots.AxesSubplot at 0x7f6bdf801810>"
            ]
          },
          "metadata": {
            "tags": []
          },
          "execution_count": 21
        },
        {
          "output_type": "display_data",
          "data": {
            "image/png": "[encoded data removed]",
            "text/plain": [
              "<Figure size 432x288 with 1 Axes>"
            ]
          },
          "metadata": {
            "tags": []
          }
        }
      ]
    },
    {
      "cell_type": "markdown",
      "metadata": {
        "id": "pRAYddsyoghj"
      },
      "source": [
        "Target class seems evently distributed, hence we can go with the normal KFold method for our cross validations with 10 splits since dataset is not too huge. "
      ]
    },
    {
      "cell_type": "code",
      "metadata": {
        "id": "tj15zPdhSDDQ"
      },
      "source": [
        "from sklearn.ensemble import RandomForestClassifier\n",
        "from sklearn.model_selection import cross_val_score\n",
        "from sklearn.model_selection import KFold\n",
        "from statistics import mean\n",
        "\n",
        "def run_baseline(X, y, split):\n",
        "  rf_model = RandomForestClassifier()\n",
        "  cv = KFold(n_splits=split, random_state=42)\n",
        "  results = cross_val_score(rf_model, X, y, scoring='accuracy', cv=cv, n_jobs = -1, verbose = 10)\n",
        "  return(mean(results))"
      ],
      "execution_count": null,
      "outputs": []
    },
    {
      "cell_type": "code",
      "metadata": {
        "colab": {
          "base_uri": "https://localhost:8080/"
        },
        "id": "Kb1BJdscBIJU",
        "outputId": "b4466489-ed5b-49aa-f6cf-dac1bbd9546d"
      },
      "source": [
        "baseline_model_results = run_baseline(X, y, 10)\n",
        "print(\"Baseline model accuracy results: \", baseline_model_results)"
      ],
      "execution_count": null,
      "outputs": [
        {
          "output_type": "stream",
          "text": [
            "[Parallel(n_jobs=-1)]: Using backend LokyBackend with 2 concurrent workers.\n",
            "[Parallel(n_jobs=-1)]: Done   1 tasks      | elapsed:    1.8s\n",
            "[Parallel(n_jobs=-1)]: Done   4 tasks      | elapsed:    2.6s\n"
          ],
          "name": "stderr"
        },
        {
          "output_type": "stream",
          "text": [
            "Baseline model accuracy results:  0.8855\n"
          ],
          "name": "stdout"
        },
        {
          "output_type": "stream",
          "text": [
            "[Parallel(n_jobs=-1)]: Done  10 out of  10 | elapsed:    4.7s finished\n"
          ],
          "name": "stderr"
        }
      ]
    },
    {
      "cell_type": "markdown",
      "metadata": {
        "id": "qJuIkNI98U98"
      },
      "source": [
        "baseline model (kitchen sink method of all features in) accuracy is somewhere short of 0.90. we know we can do better."
      ]
    },
    {
      "cell_type": "markdown",
      "metadata": {
        "id": "q5PvPW3RTlyl"
      },
      "source": [
        "# Method 2 - After filtering features manually"
      ]
    },
    {
      "cell_type": "markdown",
      "metadata": {
        "id": "5vatKFH_VTkX"
      },
      "source": [
        "We will remove features following features which shows strong independence during ANOVA test.\n",
        "\n",
        "pc                  0.825446\n",
        "\n",
        "fc                  0.772182\n",
        "\n",
        "clock_speed         0.493708"
      ]
    },
    {
      "cell_type": "code",
      "metadata": {
        "colab": {
          "base_uri": "https://localhost:8080/"
        },
        "id": "b2szOScYTrw5",
        "outputId": "68ac7b4e-4684-4c99-d9f4-76f38e8d65aa"
      },
      "source": [
        "bottom_3_anova_score.tolist()"
      ],
      "execution_count": null,
      "outputs": [
        {
          "output_type": "execute_result",
          "data": {
            "text/plain": [
              "['pc', 'fc', 'clock_speed']"
            ]
          },
          "metadata": {
            "tags": []
          },
          "execution_count": 151
        }
      ]
    },
    {
      "cell_type": "code",
      "metadata": {
        "id": "8gVPPBhlTxP0"
      },
      "source": [
        "def run_filter(X, y, split):\n",
        "  X_new = X.drop(bottom_3_anova_score.tolist(), axis=1)\n",
        "  rf_model = RandomForestClassifier()\n",
        "  cv = KFold(n_splits=split, random_state=42)\n",
        "  new_results = cross_val_score(rf_model, X_new, y, scoring='accuracy', cv = cv, n_jobs = -1, verbose=10)\n",
        "  return(mean(new_results))"
      ],
      "execution_count": null,
      "outputs": []
    },
    {
      "cell_type": "code",
      "metadata": {
        "colab": {
          "base_uri": "https://localhost:8080/"
        },
        "id": "Q0n50TUwIapN",
        "outputId": "bfece29f-b528-4b22-9837-ad736626d0c5"
      },
      "source": [
        "filter_results = run_filter(X, y, 10)\n",
        "print(\"new test accuracy dropping 3 features:\", filter_results)"
      ],
      "execution_count": null,
      "outputs": [
        {
          "output_type": "stream",
          "text": [
            "[Parallel(n_jobs=-1)]: Using backend LokyBackend with 2 concurrent workers.\n",
            "[Parallel(n_jobs=-1)]: Done   1 tasks      | elapsed:    1.9s\n",
            "[Parallel(n_jobs=-1)]: Done   4 tasks      | elapsed:    2.6s\n"
          ],
          "name": "stderr"
        },
        {
          "output_type": "stream",
          "text": [
            "new test accuracy dropping 3 features: 0.8915\n"
          ],
          "name": "stdout"
        },
        {
          "output_type": "stream",
          "text": [
            "[Parallel(n_jobs=-1)]: Done  10 out of  10 | elapsed:    4.6s finished\n"
          ],
          "name": "stderr"
        }
      ]
    },
    {
      "cell_type": "markdown",
      "metadata": {
        "id": "ebfHYiS59B_B"
      },
      "source": [
        "after removing 3 features, our accuracy is now 0.8915"
      ]
    },
    {
      "cell_type": "markdown",
      "metadata": {
        "id": "Q6yuZ2usUEIb"
      },
      "source": [
        "# Method 3 - ANOVA with gridsearch for K value"
      ]
    },
    {
      "cell_type": "markdown",
      "metadata": {
        "id": "IJSa4enLWloe"
      },
      "source": [
        "Now, let's see if we can remove more features by trying with other K values. "
      ]
    },
    {
      "cell_type": "code",
      "metadata": {
        "id": "Xemk0Z_yUPwi"
      },
      "source": [
        "from sklearn.pipeline import Pipeline\n",
        "from sklearn.model_selection import GridSearchCV\n",
        "\n",
        "def run_anova_gs(X, y, split):\n",
        "  cv = KFold(n_splits=split, random_state=42)\n",
        "  rf_model = RandomForestClassifier()\n",
        "\n",
        "  anova_s = SelectKBest(score_func = f_classif)\n",
        "  pipeline = Pipeline(steps=[('anova',anova_s), ('rf', rf_model)])\n",
        "  grid = dict()\n",
        "  grid['anova__k'] = [i+1 for i in range(len(X_new.columns))]\n",
        "  gs_model = GridSearchCV(pipeline, grid, scoring='accuracy', n_jobs=-1, cv=cv, verbose=10)\n",
        "  gs_model.fit(X, y)\n",
        "  return gs_model"
      ],
      "execution_count": null,
      "outputs": []
    },
    {
      "cell_type": "code",
      "metadata": {
        "colab": {
          "base_uri": "https://localhost:8080/"
        },
        "id": "xYkoOyuPJOoa",
        "outputId": "edc15e93-1814-425c-eb94-845caa6a841c"
      },
      "source": [
        "gs_model = run_anova_gs(X, y, 10)"
      ],
      "execution_count": null,
      "outputs": [
        {
          "output_type": "stream",
          "text": [
            "Fitting 10 folds for each of 17 candidates, totalling 170 fits\n"
          ],
          "name": "stdout"
        },
        {
          "output_type": "stream",
          "text": [
            "[Parallel(n_jobs=-1)]: Using backend LokyBackend with 2 concurrent workers.\n",
            "[Parallel(n_jobs=-1)]: Done   1 tasks      | elapsed:    0.5s\n",
            "[Parallel(n_jobs=-1)]: Done   4 tasks      | elapsed:    1.1s\n",
            "[Parallel(n_jobs=-1)]: Done   9 tasks      | elapsed:    2.7s\n",
            "[Parallel(n_jobs=-1)]: Done  14 tasks      | elapsed:    3.7s\n",
            "[Parallel(n_jobs=-1)]: Done  21 tasks      | elapsed:    5.7s\n",
            "[Parallel(n_jobs=-1)]: Done  28 tasks      | elapsed:    7.3s\n",
            "[Parallel(n_jobs=-1)]: Done  37 tasks      | elapsed:   10.2s\n",
            "[Parallel(n_jobs=-1)]: Done  46 tasks      | elapsed:   12.6s\n",
            "[Parallel(n_jobs=-1)]: Done  57 tasks      | elapsed:   16.2s\n",
            "[Parallel(n_jobs=-1)]: Done  68 tasks      | elapsed:   19.3s\n",
            "[Parallel(n_jobs=-1)]: Done  81 tasks      | elapsed:   23.5s\n",
            "[Parallel(n_jobs=-1)]: Done  94 tasks      | elapsed:   27.5s\n",
            "[Parallel(n_jobs=-1)]: Done 109 tasks      | elapsed:   32.8s\n",
            "[Parallel(n_jobs=-1)]: Done 124 tasks      | elapsed:   37.5s\n",
            "[Parallel(n_jobs=-1)]: Done 141 tasks      | elapsed:   43.3s\n",
            "[Parallel(n_jobs=-1)]: Done 158 tasks      | elapsed:   48.8s\n",
            "[Parallel(n_jobs=-1)]: Done 170 out of 170 | elapsed:   52.9s finished\n"
          ],
          "name": "stderr"
        }
      ]
    },
    {
      "cell_type": "code",
      "metadata": {
        "colab": {
          "base_uri": "https://localhost:8080/"
        },
        "id": "C3E_G2IUXAq5",
        "outputId": "0e54544e-cef5-4146-a1a6-da6984475afa"
      },
      "source": [
        "gs_model.best_params_"
      ],
      "execution_count": null,
      "outputs": [
        {
          "output_type": "execute_result",
          "data": {
            "text/plain": [
              "{'anova__k': 5}"
            ]
          },
          "metadata": {
            "tags": []
          },
          "execution_count": 161
        }
      ]
    },
    {
      "cell_type": "code",
      "metadata": {
        "colab": {
          "base_uri": "https://localhost:8080/"
        },
        "id": "X2D9c4plXBzR",
        "outputId": "3585a355-8bb9-421d-a563-15ce83cfa2f5"
      },
      "source": [
        "gs_model.best_score_"
      ],
      "execution_count": null,
      "outputs": [
        {
          "output_type": "execute_result",
          "data": {
            "text/plain": [
              "0.921"
            ]
          },
          "metadata": {
            "tags": []
          },
          "execution_count": 162
        }
      ]
    },
    {
      "cell_type": "markdown",
      "metadata": {
        "id": "Dk1bavo3XNDZ"
      },
      "source": [
        "We are now down to 5 features that yield a better accuracy of 0.917. Which 5 features?"
      ]
    },
    {
      "cell_type": "code",
      "metadata": {
        "colab": {
          "base_uri": "https://localhost:8080/"
        },
        "id": "6T5g7V8aXMlV",
        "outputId": "e4b4b49e-b998-46d2-b9e4-4b5bcad9323c"
      },
      "source": [
        "fs = SelectKBest(score_func=f_classif, k=5)\n",
        "fs.fit(X, y)\n",
        "X.columns[fs.get_support()]"
      ],
      "execution_count": null,
      "outputs": [
        {
          "output_type": "execute_result",
          "data": {
            "text/plain": [
              "Index(['battery_power', 'mobile_wt', 'px_height', 'px_width', 'ram'], dtype='object')"
            ]
          },
          "metadata": {
            "tags": []
          },
          "execution_count": 163
        }
      ]
    },
    {
      "cell_type": "markdown",
      "metadata": {
        "id": "17nIu5F4Xfg0"
      },
      "source": [
        "# Method 4 - Recursive Feature Elimination - CV"
      ]
    },
    {
      "cell_type": "markdown",
      "metadata": {
        "id": "zEI2cfoqXlGp"
      },
      "source": [
        "RFE works by searching for a subset of features by starting with all features in the training dataset and successfully removing features until the desired number remains.\n",
        "\n",
        "This is achieved by fitting the given machine learning algorithm, ranking features by importance, discarding the least important features, and re-fitting the model. This process is repeated until a specified number of features remains.\n",
        "\n",
        "As this is a greedy approach by evaluating all the possible combinations of features, it also takes the longest time to implement and execute. "
      ]
    },
    {
      "cell_type": "code",
      "metadata": {
        "id": "Kvms1mmmXjGZ"
      },
      "source": [
        "from sklearn.feature_selection import RFECV\n",
        "from sklearn.svm import SVC\n",
        "from sklearn.model_selection import KFold\n",
        "\n",
        "def run_rfecv(X,y,split):\n",
        "  rf_model = RandomForestClassifier()\n",
        "  cv = KFold(n_splits=split, random_state=42)\n",
        "  rfecv = RFECV(estimator=rf_model, cv=cv, scoring='accuracy', verbose=1)\n",
        "  rfecv.fit(X, y)\n",
        "  return rfecv"
      ],
      "execution_count": null,
      "outputs": []
    },
    {
      "cell_type": "code",
      "metadata": {
        "colab": {
          "base_uri": "https://localhost:8080/"
        },
        "id": "eqHO9KtQ_8ZG",
        "outputId": "d4f5a8d4-9f5f-4956-d1ff-485c79f1c00e"
      },
      "source": [
        "rfecv = run_rfecv(X,y,10)"
      ],
      "execution_count": null,
      "outputs": [
        {
          "output_type": "stream",
          "text": [
            "Fitting estimator with 20 features.\n",
            "Fitting estimator with 19 features.\n",
            "Fitting estimator with 18 features.\n",
            "Fitting estimator with 17 features.\n",
            "Fitting estimator with 16 features.\n",
            "Fitting estimator with 15 features.\n",
            "Fitting estimator with 14 features.\n",
            "Fitting estimator with 13 features.\n",
            "Fitting estimator with 12 features.\n",
            "Fitting estimator with 11 features.\n",
            "Fitting estimator with 10 features.\n",
            "Fitting estimator with 9 features.\n",
            "Fitting estimator with 8 features.\n",
            "Fitting estimator with 7 features.\n",
            "Fitting estimator with 6 features.\n",
            "Fitting estimator with 5 features.\n",
            "Fitting estimator with 4 features.\n",
            "Fitting estimator with 3 features.\n",
            "Fitting estimator with 2 features.\n",
            "Fitting estimator with 20 features.\n",
            "Fitting estimator with 19 features.\n",
            "Fitting estimator with 18 features.\n",
            "Fitting estimator with 17 features.\n",
            "Fitting estimator with 16 features.\n",
            "Fitting estimator with 15 features.\n",
            "Fitting estimator with 14 features.\n",
            "Fitting estimator with 13 features.\n",
            "Fitting estimator with 12 features.\n",
            "Fitting estimator with 11 features.\n",
            "Fitting estimator with 10 features.\n",
            "Fitting estimator with 9 features.\n",
            "Fitting estimator with 8 features.\n",
            "Fitting estimator with 7 features.\n",
            "Fitting estimator with 6 features.\n",
            "Fitting estimator with 5 features.\n",
            "Fitting estimator with 4 features.\n",
            "Fitting estimator with 3 features.\n",
            "Fitting estimator with 2 features.\n",
            "Fitting estimator with 20 features.\n",
            "Fitting estimator with 19 features.\n",
            "Fitting estimator with 18 features.\n",
            "Fitting estimator with 17 features.\n",
            "Fitting estimator with 16 features.\n",
            "Fitting estimator with 15 features.\n",
            "Fitting estimator with 14 features.\n",
            "Fitting estimator with 13 features.\n",
            "Fitting estimator with 12 features.\n",
            "Fitting estimator with 11 features.\n",
            "Fitting estimator with 10 features.\n",
            "Fitting estimator with 9 features.\n",
            "Fitting estimator with 8 features.\n",
            "Fitting estimator with 7 features.\n",
            "Fitting estimator with 6 features.\n",
            "Fitting estimator with 5 features.\n",
            "Fitting estimator with 4 features.\n",
            "Fitting estimator with 3 features.\n",
            "Fitting estimator with 2 features.\n",
            "Fitting estimator with 20 features.\n",
            "Fitting estimator with 19 features.\n",
            "Fitting estimator with 18 features.\n",
            "Fitting estimator with 17 features.\n",
            "Fitting estimator with 16 features.\n",
            "Fitting estimator with 15 features.\n",
            "Fitting estimator with 14 features.\n",
            "Fitting estimator with 13 features.\n",
            "Fitting estimator with 12 features.\n",
            "Fitting estimator with 11 features.\n",
            "Fitting estimator with 10 features.\n",
            "Fitting estimator with 9 features.\n",
            "Fitting estimator with 8 features.\n",
            "Fitting estimator with 7 features.\n",
            "Fitting estimator with 6 features.\n",
            "Fitting estimator with 5 features.\n",
            "Fitting estimator with 4 features.\n",
            "Fitting estimator with 3 features.\n",
            "Fitting estimator with 2 features.\n",
            "Fitting estimator with 20 features.\n",
            "Fitting estimator with 19 features.\n",
            "Fitting estimator with 18 features.\n",
            "Fitting estimator with 17 features.\n",
            "Fitting estimator with 16 features.\n",
            "Fitting estimator with 15 features.\n",
            "Fitting estimator with 14 features.\n",
            "Fitting estimator with 13 features.\n",
            "Fitting estimator with 12 features.\n",
            "Fitting estimator with 11 features.\n",
            "Fitting estimator with 10 features.\n",
            "Fitting estimator with 9 features.\n",
            "Fitting estimator with 8 features.\n",
            "Fitting estimator with 7 features.\n",
            "Fitting estimator with 6 features.\n",
            "Fitting estimator with 5 features.\n",
            "Fitting estimator with 4 features.\n",
            "Fitting estimator with 3 features.\n",
            "Fitting estimator with 2 features.\n",
            "Fitting estimator with 20 features.\n",
            "Fitting estimator with 19 features.\n",
            "Fitting estimator with 18 features.\n",
            "Fitting estimator with 17 features.\n",
            "Fitting estimator with 16 features.\n",
            "Fitting estimator with 15 features.\n",
            "Fitting estimator with 14 features.\n",
            "Fitting estimator with 13 features.\n",
            "Fitting estimator with 12 features.\n",
            "Fitting estimator with 11 features.\n",
            "Fitting estimator with 10 features.\n",
            "Fitting estimator with 9 features.\n",
            "Fitting estimator with 8 features.\n",
            "Fitting estimator with 7 features.\n",
            "Fitting estimator with 6 features.\n",
            "Fitting estimator with 5 features.\n",
            "Fitting estimator with 4 features.\n",
            "Fitting estimator with 3 features.\n",
            "Fitting estimator with 2 features.\n",
            "Fitting estimator with 20 features.\n",
            "Fitting estimator with 19 features.\n",
            "Fitting estimator with 18 features.\n",
            "Fitting estimator with 17 features.\n",
            "Fitting estimator with 16 features.\n",
            "Fitting estimator with 15 features.\n",
            "Fitting estimator with 14 features.\n",
            "Fitting estimator with 13 features.\n",
            "Fitting estimator with 12 features.\n",
            "Fitting estimator with 11 features.\n",
            "Fitting estimator with 10 features.\n",
            "Fitting estimator with 9 features.\n",
            "Fitting estimator with 8 features.\n",
            "Fitting estimator with 7 features.\n",
            "Fitting estimator with 6 features.\n",
            "Fitting estimator with 5 features.\n",
            "Fitting estimator with 4 features.\n",
            "Fitting estimator with 3 features.\n",
            "Fitting estimator with 2 features.\n",
            "Fitting estimator with 20 features.\n",
            "Fitting estimator with 19 features.\n",
            "Fitting estimator with 18 features.\n",
            "Fitting estimator with 17 features.\n",
            "Fitting estimator with 16 features.\n",
            "Fitting estimator with 15 features.\n",
            "Fitting estimator with 14 features.\n",
            "Fitting estimator with 13 features.\n",
            "Fitting estimator with 12 features.\n",
            "Fitting estimator with 11 features.\n",
            "Fitting estimator with 10 features.\n",
            "Fitting estimator with 9 features.\n",
            "Fitting estimator with 8 features.\n",
            "Fitting estimator with 7 features.\n",
            "Fitting estimator with 6 features.\n",
            "Fitting estimator with 5 features.\n",
            "Fitting estimator with 4 features.\n",
            "Fitting estimator with 3 features.\n",
            "Fitting estimator with 2 features.\n",
            "Fitting estimator with 20 features.\n",
            "Fitting estimator with 19 features.\n",
            "Fitting estimator with 18 features.\n",
            "Fitting estimator with 17 features.\n",
            "Fitting estimator with 16 features.\n",
            "Fitting estimator with 15 features.\n",
            "Fitting estimator with 14 features.\n",
            "Fitting estimator with 13 features.\n",
            "Fitting estimator with 12 features.\n",
            "Fitting estimator with 11 features.\n",
            "Fitting estimator with 10 features.\n",
            "Fitting estimator with 9 features.\n",
            "Fitting estimator with 8 features.\n",
            "Fitting estimator with 7 features.\n",
            "Fitting estimator with 6 features.\n",
            "Fitting estimator with 5 features.\n",
            "Fitting estimator with 4 features.\n",
            "Fitting estimator with 3 features.\n",
            "Fitting estimator with 2 features.\n",
            "Fitting estimator with 20 features.\n",
            "Fitting estimator with 19 features.\n",
            "Fitting estimator with 18 features.\n",
            "Fitting estimator with 17 features.\n",
            "Fitting estimator with 16 features.\n",
            "Fitting estimator with 15 features.\n",
            "Fitting estimator with 14 features.\n",
            "Fitting estimator with 13 features.\n",
            "Fitting estimator with 12 features.\n",
            "Fitting estimator with 11 features.\n",
            "Fitting estimator with 10 features.\n",
            "Fitting estimator with 9 features.\n",
            "Fitting estimator with 8 features.\n",
            "Fitting estimator with 7 features.\n",
            "Fitting estimator with 6 features.\n",
            "Fitting estimator with 5 features.\n",
            "Fitting estimator with 4 features.\n",
            "Fitting estimator with 3 features.\n",
            "Fitting estimator with 2 features.\n",
            "Fitting estimator with 20 features.\n",
            "Fitting estimator with 19 features.\n",
            "Fitting estimator with 18 features.\n",
            "Fitting estimator with 17 features.\n",
            "Fitting estimator with 16 features.\n",
            "Fitting estimator with 15 features.\n",
            "Fitting estimator with 14 features.\n",
            "Fitting estimator with 13 features.\n",
            "Fitting estimator with 12 features.\n",
            "Fitting estimator with 11 features.\n",
            "Fitting estimator with 10 features.\n",
            "Fitting estimator with 9 features.\n",
            "Fitting estimator with 8 features.\n",
            "Fitting estimator with 7 features.\n",
            "Fitting estimator with 6 features.\n"
          ],
          "name": "stdout"
        }
      ]
    },
    {
      "cell_type": "code",
      "metadata": {
        "colab": {
          "base_uri": "https://localhost:8080/"
        },
        "id": "XSGxS4mkYKsG",
        "outputId": "e3c94e06-cfb5-4919-e083-92dde3078264"
      },
      "source": [
        "rfecv.grid_scores_"
      ],
      "execution_count": null,
      "outputs": [
        {
          "output_type": "execute_result",
          "data": {
            "text/plain": [
              "array([0.676 , 0.799 , 0.8705, 0.9175, 0.919 , 0.9155, 0.9065, 0.9025,\n",
              "       0.9055, 0.903 , 0.8995, 0.8975, 0.892 , 0.8865, 0.8845, 0.8925,\n",
              "       0.8875, 0.887 , 0.881 , 0.884 ])"
            ]
          },
          "metadata": {
            "tags": []
          },
          "execution_count": 166
        }
      ]
    },
    {
      "cell_type": "code",
      "metadata": {
        "colab": {
          "base_uri": "https://localhost:8080/"
        },
        "id": "iHZUg2l7Z3LC",
        "outputId": "6977f87d-f7bf-436d-aaf7-730be2681ab9"
      },
      "source": [
        "np.max(rfecv.grid_scores_)"
      ],
      "execution_count": null,
      "outputs": [
        {
          "output_type": "execute_result",
          "data": {
            "text/plain": [
              "0.9190000000000002"
            ]
          },
          "metadata": {
            "tags": []
          },
          "execution_count": 167
        }
      ]
    },
    {
      "cell_type": "code",
      "metadata": {
        "colab": {
          "base_uri": "https://localhost:8080/"
        },
        "id": "X8AN5GwnlNfW",
        "outputId": "4435c810-a025-48b6-c225-4a292daacf7d"
      },
      "source": [
        "rfecv.n_features_"
      ],
      "execution_count": null,
      "outputs": [
        {
          "output_type": "execute_result",
          "data": {
            "text/plain": [
              "5"
            ]
          },
          "metadata": {
            "tags": []
          },
          "execution_count": 168
        }
      ]
    },
    {
      "cell_type": "code",
      "metadata": {
        "colab": {
          "base_uri": "https://localhost:8080/",
          "height": 394
        },
        "id": "P4AeWel_YAlF",
        "outputId": "f187769d-d4e6-4add-8721-0412dd75540b"
      },
      "source": [
        "plt.figure(figsize=(8,6))\n",
        "plt.xlabel(\"Number of features selected\")\n",
        "plt.ylabel(\"Cross validation score (nb of correct classifications)\")\n",
        "plt.plot(range(0, len(rfecv.grid_scores_)),rfecv.grid_scores_)\n",
        "plt.grid()\n",
        "plt.show()"
      ],
      "execution_count": null,
      "outputs": [
        {
          "output_type": "display_data",
          "data": {
            "image/png": "[encoded data removed]",
            "text/plain": [
              "<Figure size 576x432 with 1 Axes>"
            ]
          },
          "metadata": {
            "tags": []
          }
        }
      ]
    },
    {
      "cell_type": "code",
      "metadata": {
        "colab": {
          "base_uri": "https://localhost:8080/"
        },
        "id": "v0WddjYLehUe",
        "outputId": "9d7d6c61-7d3c-484b-de82-3d987938d769"
      },
      "source": [
        "print(\"the optimal num of features is\", rfecv.n_features_, \"with best accuracy of\", np.max(rfecv.grid_scores_))"
      ],
      "execution_count": null,
      "outputs": [
        {
          "output_type": "stream",
          "text": [
            "the optimal num of features is 5 with best accuracy of 0.9190000000000002\n"
          ],
          "name": "stdout"
        }
      ]
    },
    {
      "cell_type": "markdown",
      "metadata": {
        "id": "ikpfPjPzZJYi"
      },
      "source": [
        "After RFE, we are down to just 5 features only, with accuracy of close to 0.92\n",
        "\n",
        "Which 5 features?"
      ]
    },
    {
      "cell_type": "code",
      "metadata": {
        "colab": {
          "base_uri": "https://localhost:8080/"
        },
        "id": "rqdHgJkbYdVM",
        "outputId": "526c241d-f701-484f-8ac9-cf593ff585d8"
      },
      "source": [
        "for i in range(X.shape[1]):\n",
        "\tprint('{:>14}  {:>10}  {:>12}'.format(X.columns[i], str(rfecv.support_[i]), rfecv.ranking_[i]))"
      ],
      "execution_count": null,
      "outputs": [
        {
          "output_type": "stream",
          "text": [
            " battery_power        True             1\n",
            "          blue       False            13\n",
            "   clock_speed       False             6\n",
            "      dual_sim       False            14\n",
            "            fc       False             8\n",
            "        four_g       False            11\n",
            "    int_memory       False             2\n",
            "         m_dep       False             9\n",
            "     mobile_wt        True             1\n",
            "       n_cores       False            10\n",
            "            pc       False             3\n",
            "     px_height        True             1\n",
            "      px_width        True             1\n",
            "           ram        True             1\n",
            "          sc_h       False             5\n",
            "          sc_w       False             7\n",
            "     talk_time       False             4\n",
            "       three_g       False            16\n",
            "  touch_screen       False            15\n",
            "          wifi       False            12\n"
          ],
          "name": "stdout"
        }
      ]
    },
    {
      "cell_type": "code",
      "metadata": {
        "colab": {
          "base_uri": "https://localhost:8080/"
        },
        "id": "q2rf6XnlhN7F",
        "outputId": "8ce16c22-c026-40dd-d9c1-f07235dd0352"
      },
      "source": [
        "X.columns[np.where(rfecv.support_ == True)[0]]"
      ],
      "execution_count": null,
      "outputs": [
        {
          "output_type": "execute_result",
          "data": {
            "text/plain": [
              "Index(['battery_power', 'mobile_wt', 'px_height', 'px_width', 'ram'], dtype='object')"
            ]
          },
          "metadata": {
            "tags": []
          },
          "execution_count": 172
        }
      ]
    },
    {
      "cell_type": "code",
      "metadata": {
        "colab": {
          "base_uri": "https://localhost:8080/"
        },
        "id": "HKQoKWUFYvZh",
        "outputId": "8360df4b-425a-4e22-9abf-e8896e48ef80"
      },
      "source": [
        "rfecv.estimator_.feature_importances_"
      ],
      "execution_count": null,
      "outputs": [
        {
          "output_type": "execute_result",
          "data": {
            "text/plain": [
              "array([0.11918713, 0.04540672, 0.08057317, 0.08127357, 0.67355941])"
            ]
          },
          "metadata": {
            "tags": []
          },
          "execution_count": 173
        }
      ]
    },
    {
      "cell_type": "code",
      "metadata": {
        "colab": {
          "base_uri": "https://localhost:8080/",
          "height": 377
        },
        "id": "R2TRnsYqhX3h",
        "outputId": "24076fe1-d503-4bb7-dc65-6dac74251d37"
      },
      "source": [
        "rfecv_importance_score = pd.Series(rfecv.estimator_.feature_importances_)\n",
        "rfecv_importance_score.index = X.columns[np.where(rfecv.support_ == True)[0]]\n",
        "\n",
        "plt.figure(figsize=(8,6))\n",
        "rfecv_importance_score.nlargest(len(rfecv_importance_score)).plot(kind='barh')\n",
        "plt.grid()\n",
        "plt.show()"
      ],
      "execution_count": null,
      "outputs": [
        {
          "output_type": "display_data",
          "data": {
            "image/png": "[encoded data removed]",
            "text/plain": [
              "<Figure size 576x432 with 1 Axes>"
            ]
          },
          "metadata": {
            "tags": []
          }
        }
      ]
    }
  ]
}